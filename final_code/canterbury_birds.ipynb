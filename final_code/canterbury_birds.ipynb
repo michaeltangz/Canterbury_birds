{
  "cells": [
    {
      "cell_type": "code",
      "execution_count": 1,
      "metadata": {
        "id": "DUB0i8bc3qeQ"
      },
      "outputs": [],
      "source": [
        "# import pandas, geopandas, numpy, matplotlib\n",
        "import pandas as pd\n",
        "import geopandas as gpd\n",
        "import numpy as np\n",
        "import matplotlib.pyplot as plt"
      ]
    },
    {
      "cell_type": "code",
      "execution_count": null,
      "metadata": {
        "colab": {
          "base_uri": "https://localhost:8080/"
        },
        "id": "jGOC_zKW31ml",
        "outputId": "3e109b6a-52d8-4889-bf7a-614f0c4e44a9"
      },
      "outputs": [
        {
          "name": "stdout",
          "output_type": "stream",
          "text": [
            "Mounted at /content/drive\n"
          ]
        }
      ],
      "source": [
        "# from google.colab import drive\n",
        "# drive.mount('/content/drive')"
      ]
    },
    {
      "cell_type": "code",
      "execution_count": 3,
      "metadata": {
        "id": "aksKRiD64GHU"
      },
      "outputs": [],
      "source": [
        "# import csv file from local\n",
        "cbirds = pd.read_csv('/Users/michaeltang/Downloads/GISC412_project_repo/Canterbury_birds/final_code/birds_canterbury.csv')\n"
      ]
    },
    {
      "cell_type": "code",
      "execution_count": 4,
      "metadata": {
        "colab": {
          "base_uri": "https://localhost:8080/",
          "height": 203
        },
        "id": "YKTu3AhC4Y3Z",
        "outputId": "e45f5df6-5859-46e8-e05c-61c5bca5223f"
      },
      "outputs": [
        {
          "data": {
            "text/plain": [
              "<bound method DataFrame.info of                                GLOBAL UNIQUE IDENTIFIER LAST EDITED DATE  \\\n",
              "0       URN:CornellLabOfOrnithology:EBIRD:OBS1604156753       2023/01/11   \n",
              "1       URN:CornellLabOfOrnithology:EBIRD:OBS1604300891       2023/01/11   \n",
              "2       URN:CornellLabOfOrnithology:EBIRD:OBS1622102585       2023/02/03   \n",
              "3       URN:CornellLabOfOrnithology:EBIRD:OBS1611155699       2023/12/11   \n",
              "4       URN:CornellLabOfOrnithology:EBIRD:OBS1609319533       2023/01/18   \n",
              "...                                                 ...              ...   \n",
              "194939  URN:CornellLabOfOrnithology:EBIRD:OBS1892829220       2023/12/08   \n",
              "194940  URN:CornellLabOfOrnithology:EBIRD:OBS1889833277       2024/04/18   \n",
              "194941  URN:CornellLabOfOrnithology:EBIRD:OBS1892819952       2023/12/08   \n",
              "194942  URN:CornellLabOfOrnithology:EBIRD:OBS1899120072       2023/12/16   \n",
              "194943  URN:CornellLabOfOrnithology:EBIRD:OBS1890521240       2024/04/18   \n",
              "\n",
              "        TAXONOMIC ORDER CATEGORY  TAXON CONCEPT ID            COMMON NAME  \\\n",
              "0                  6851     spuh  avibase-0DA72A61          albatross sp.   \n",
              "1                  6851     spuh  avibase-0DA72A61          albatross sp.   \n",
              "2                  6925  species  avibase-C1706A8B  Southern Giant-Petrel   \n",
              "3                  7167  species  avibase-13610344    Australasian Gannet   \n",
              "4                  7167  species  avibase-13610344    Australasian Gannet   \n",
              "...                 ...      ...               ...                    ...   \n",
              "194939            32204  species  avibase-56FB47C0           Yellowhammer   \n",
              "194940            32204  species  avibase-56FB47C0           Yellowhammer   \n",
              "194941            32204  species  avibase-56FB47C0           Yellowhammer   \n",
              "194942            32204  species  avibase-56FB47C0           Yellowhammer   \n",
              "194943            32204  species  avibase-56FB47C0           Yellowhammer   \n",
              "\n",
              "              SCIENTIFIC NAME SUBSPECIES COMMON NAME  \\\n",
              "0             Diomedeidae sp.                    NaN   \n",
              "1             Diomedeidae sp.                    NaN   \n",
              "2       Macronectes giganteus                    NaN   \n",
              "3              Morus serrator                    NaN   \n",
              "4              Morus serrator                    NaN   \n",
              "...                       ...                    ...   \n",
              "194939    Emberiza citrinella                    NaN   \n",
              "194940    Emberiza citrinella                    NaN   \n",
              "194941    Emberiza citrinella                    NaN   \n",
              "194942    Emberiza citrinella                    NaN   \n",
              "194943    Emberiza citrinella                    NaN   \n",
              "\n",
              "       SUBSPECIES SCIENTIFIC NAME EXOTIC CODE  ... EFFORT AREA HA  \\\n",
              "0                             NaN         NaN  ...            NaN   \n",
              "1                             NaN         NaN  ...            NaN   \n",
              "2                             NaN         NaN  ...            NaN   \n",
              "3                             NaN         NaN  ...            NaN   \n",
              "4                             NaN         NaN  ...            NaN   \n",
              "...                           ...         ...  ...            ...   \n",
              "194939                        NaN           N  ...            NaN   \n",
              "194940                        NaN           N  ...            NaN   \n",
              "194941                        NaN           N  ...            NaN   \n",
              "194942                        NaN           N  ...            NaN   \n",
              "194943                        NaN           N  ...            NaN   \n",
              "\n",
              "       NUMBER OBSERVERS ALL SPECIES REPORTED GROUP IDENTIFIER HAS MEDIA  \\\n",
              "0                   3.0                    1              NaN         0   \n",
              "1                   1.0                    1              NaN         0   \n",
              "2                  11.0                    0         G9510873         0   \n",
              "3                   1.0                    1              NaN         0   \n",
              "4                   2.0                    1         G9515728         0   \n",
              "...                 ...                  ...              ...       ...   \n",
              "194939              1.0                    1              NaN         0   \n",
              "194940              8.0                    1        G11628384         0   \n",
              "194941              1.0                    1              NaN         0   \n",
              "194942              3.0                    1        G11313151         0   \n",
              "194943              4.0                    1        G11628377         0   \n",
              "\n",
              "       APPROVED REVIEWED REASON TRIP COMMENTS  \\\n",
              "0             1        0    NaN           NaN   \n",
              "1             1        0    NaN           NaN   \n",
              "2             1        0    NaN           NaN   \n",
              "3             1        0    NaN           NaN   \n",
              "4             1        0    NaN           NaN   \n",
              "...         ...      ...    ...           ...   \n",
              "194939        1        0    NaN           NaN   \n",
              "194940        1        0    NaN           NaN   \n",
              "194941        1        0    NaN           NaN   \n",
              "194942        1        0    NaN           NaN   \n",
              "194943        1        0    NaN           NaN   \n",
              "\n",
              "                               SPECIES COMMENTS  \n",
              "0                                           NaN  \n",
              "1                                           NaN  \n",
              "2       Observed by guide only, Abram Tompkins.  \n",
              "3                                           NaN  \n",
              "4                                           NaN  \n",
              "...                                         ...  \n",
              "194939                                      NaN  \n",
              "194940                                      NaN  \n",
              "194941                                      NaN  \n",
              "194942                                      NaN  \n",
              "194943                                      NaN  \n",
              "\n",
              "[194944 rows x 49 columns]>"
            ]
          },
          "execution_count": 4,
          "metadata": {},
          "output_type": "execute_result"
        }
      ],
      "source": [
        "cbirds.info"
      ]
    },
    {
      "cell_type": "code",
      "execution_count": 5,
      "metadata": {
        "colab": {
          "base_uri": "https://localhost:8080/"
        },
        "id": "yJJpP1hy5Oct",
        "outputId": "ffbd21cc-a305-44c3-d6c9-53e523537c96"
      },
      "outputs": [
        {
          "data": {
            "text/plain": [
              "Index(['GLOBAL UNIQUE IDENTIFIER', 'LAST EDITED DATE', 'TAXONOMIC ORDER',\n",
              "       'CATEGORY', 'TAXON CONCEPT ID', 'COMMON NAME', 'SCIENTIFIC NAME',\n",
              "       'SUBSPECIES COMMON NAME', 'SUBSPECIES SCIENTIFIC NAME', 'EXOTIC CODE',\n",
              "       'OBSERVATION COUNT', 'BREEDING CODE', 'BREEDING CATEGORY',\n",
              "       'BEHAVIOR CODE', 'AGE/SEX', 'COUNTRY', 'COUNTRY CODE', 'STATE',\n",
              "       'STATE CODE', 'COUNTY', 'COUNTY CODE', 'IBA CODE', 'BCR CODE',\n",
              "       'USFWS CODE', 'ATLAS BLOCK', 'LOCALITY', 'LOCALITY ID', 'LOCALITY TYPE',\n",
              "       'LATITUDE', 'LONGITUDE', 'OBSERVATION DATE',\n",
              "       'TIME OBSERVATIONS STARTED', 'OBSERVER ID', 'SAMPLING EVENT IDENTIFIER',\n",
              "       'PROTOCOL TYPE', 'PROTOCOL CODE', 'PROJECT CODE', 'DURATION MINUTES',\n",
              "       'EFFORT DISTANCE KM', 'EFFORT AREA HA', 'NUMBER OBSERVERS',\n",
              "       'ALL SPECIES REPORTED', 'GROUP IDENTIFIER', 'HAS MEDIA', 'APPROVED',\n",
              "       'REVIEWED', 'REASON', 'TRIP COMMENTS', 'SPECIES COMMENTS'],\n",
              "      dtype='object')"
            ]
          },
          "execution_count": 5,
          "metadata": {},
          "output_type": "execute_result"
        }
      ],
      "source": [
        "cbirds.columns"
      ]
    },
    {
      "cell_type": "code",
      "execution_count": 6,
      "metadata": {
        "colab": {
          "base_uri": "https://localhost:8080/",
          "height": 617
        },
        "id": "x5r7fOJP5cNf",
        "outputId": "c299ecf3-5a2b-467a-d050-0a4eb295df3e"
      },
      "outputs": [
        {
          "data": {
            "text/plain": [
              "SUBSPECIES SCIENTIFIC NAME\n",
              "Columba livia (Feral Pigeon)                  2776\n",
              "Chroicocephalus novaehollandiae scopulinus    1520\n",
              "Anas platyrhynchos (Domestic type)             320\n",
              "Petroica macrocephala [macrocephala Group]     307\n",
              "Phalacrocorax carbo novaehollandiae            202\n",
              "Cairina moschata (Domestic type)               156\n",
              "Anser anser (Domestic type)                    114\n",
              "Gallus gallus (Domestic type)                   26\n",
              "Ardea alba modesta                              12\n",
              "Diomedea antipodensis gibsoni                   11\n",
              "Todiramphus sanctus vagans                       8\n",
              "Thalassarche melanophris melanophris             7\n",
              "Thalassarche cauta steadi                        7\n",
              "Vanellus miles novaehollandiae                   3\n",
              "Daption capense australe                         3\n",
              "Carduelis carduelis [carduelis Group]            3\n",
              "Meleagris gallopavo (Domestic type)              1\n",
              "Limosa lapponica [baueri Group]                  1\n",
              "Leucocarbo chalconotus chalconotus               1\n",
              "Diomedea antipodensis antipodensis               1\n",
              "Streptopelia roseogrisea (Domestic type)         1\n",
              "Gymnorhina tibicen [tibicen Group]               1\n",
              "Name: count, dtype: int64"
            ]
          },
          "execution_count": 6,
          "metadata": {},
          "output_type": "execute_result"
        }
      ],
      "source": [
        "cbirds['SUBSPECIES SCIENTIFIC NAME'].value_counts()"
      ]
    },
    {
      "cell_type": "code",
      "execution_count": 7,
      "metadata": {
        "colab": {
          "base_uri": "https://localhost:8080/"
        },
        "id": "BJQqKMis5mmG",
        "outputId": "0e6429ae-ed13-46d4-e71d-396b93d7e68e"
      },
      "outputs": [
        {
          "data": {
            "text/plain": [
              "(194944, 49)"
            ]
          },
          "execution_count": 7,
          "metadata": {},
          "output_type": "execute_result"
        }
      ],
      "source": [
        "cbirds.shape"
      ]
    },
    {
      "cell_type": "code",
      "execution_count": 8,
      "metadata": {
        "colab": {
          "base_uri": "https://localhost:8080/",
          "height": 489
        },
        "id": "-Dd9CHyE5txU",
        "outputId": "f5f6df82-d185-4648-bfad-813539ad566d"
      },
      "outputs": [
        {
          "data": {
            "text/plain": [
              "COMMON NAME\n",
              "Eurasian Blackbird          10148\n",
              "House Sparrow                9650\n",
              "European Starling            8393\n",
              "Kelp Gull                    7835\n",
              "Common Chaffinch             7761\n",
              "                            ...  \n",
              "Gray-backed Storm-Petrel        1\n",
              "Flesh-footed Shearwater         1\n",
              "Fairy Prion                     1\n",
              "Lady Amherst's Pheasant         1\n",
              "grebe sp.                       1\n",
              "Name: count, Length: 195, dtype: int64"
            ]
          },
          "execution_count": 8,
          "metadata": {},
          "output_type": "execute_result"
        }
      ],
      "source": [
        "cbirds['COMMON NAME'].value_counts()"
      ]
    },
    {
      "cell_type": "code",
      "execution_count": 9,
      "metadata": {
        "colab": {
          "base_uri": "https://localhost:8080/",
          "height": 447
        },
        "id": "gwfyGGiA6Gam",
        "outputId": "2d637023-2ae0-4ce6-a2ba-ab22967c8b30"
      },
      "outputs": [
        {
          "data": {
            "text/plain": [
              "<Axes: >"
            ]
          },
          "execution_count": 9,
          "metadata": {},
          "output_type": "execute_result"
        },
        {
          "data": {
            "image/png": "[encoded data removed]",
            "text/plain": [
              "<Figure size 640x480 with 1 Axes>"
            ]
          },
          "metadata": {},
          "output_type": "display_data"
        }
      ],
      "source": [
        "#\n",
        "cbirds['COMMON NAME'].value_counts().hist(bins=50)"
      ]
    },
    {
      "cell_type": "code",
      "execution_count": null,
      "metadata": {
        "id": "r1yuCtmw6dJj"
      },
      "outputs": [],
      "source": [
        "#cbirds['COMMON NAME'].unique()"
      ]
    },
    {
      "cell_type": "code",
      "execution_count": 10,
      "metadata": {
        "colab": {
          "base_uri": "https://localhost:8080/",
          "height": 774
        },
        "id": "cAxrFeD76phD",
        "outputId": "d9a06cdf-cdf9-4d59-e862-2d697aaede05"
      },
      "outputs": [
        {
          "data": {
            "text/plain": [
              "<Axes: xlabel='COMMON NAME'>"
            ]
          },
          "execution_count": 10,
          "metadata": {},
          "output_type": "execute_result"
        },
        {
          "data": {
            "image/png": "[encoded data removed]",
            "text/plain": [
              "<Figure size 640x480 with 1 Axes>"
            ]
          },
          "metadata": {},
          "output_type": "display_data"
        }
      ],
      "source": [
        "# plot the number of distribution of bird species\n",
        "cbirds['COMMON NAME'].value_counts().plot(kind='bar')"
      ]
    },
    {
      "cell_type": "code",
      "execution_count": null,
      "metadata": {
        "id": "XyINnrWU7AcB"
      },
      "outputs": [],
      "source": [
        "# fileter out the bird species < 1\n",
        "#cbirds_filtered = cbirds[cbirds['COMMON NAME'].value_counts() > 1]"
      ]
    },
    {
      "cell_type": "code",
      "execution_count": null,
      "metadata": {
        "id": "WXcP86qC7Y2W"
      },
      "outputs": [],
      "source": []
    },
    {
      "cell_type": "code",
      "execution_count": 11,
      "metadata": {
        "id": "xdZNjgun7mQd"
      },
      "outputs": [],
      "source": [
        "# fileter out the bird species < 1\n",
        "cbirds_filtered = cbirds.groupby('COMMON NAME').filter(lambda x: len(x) > 2)"
      ]
    },
    {
      "cell_type": "code",
      "execution_count": 12,
      "metadata": {
        "colab": {
          "base_uri": "https://localhost:8080/",
          "height": 489
        },
        "id": "fOfcgh1z7p0x",
        "outputId": "6bfa334e-f938-41c0-a170-1b1e2e5a9e6a"
      },
      "outputs": [
        {
          "data": {
            "text/plain": [
              "COMMON NAME\n",
              "Eurasian Blackbird             10148\n",
              "House Sparrow                   9650\n",
              "European Starling               8393\n",
              "Kelp Gull                       7835\n",
              "Common Chaffinch                7761\n",
              "                               ...  \n",
              "tern sp.                           3\n",
              "Gull-billed/Australian Tern        3\n",
              "Stewart Island Shag                3\n",
              "Golden Pheasant                    3\n",
              "Turdus sp.                         3\n",
              "Name: count, Length: 175, dtype: int64"
            ]
          },
          "execution_count": 12,
          "metadata": {},
          "output_type": "execute_result"
        }
      ],
      "source": [
        "cbirds_filtered['COMMON NAME'].value_counts()"
      ]
    },
    {
      "cell_type": "code",
      "execution_count": 13,
      "metadata": {
        "colab": {
          "base_uri": "https://localhost:8080/"
        },
        "id": "aOhwwQMx7vSd",
        "outputId": "91e00ef9-7c1f-43aa-aa37-3e5f56dad4c8"
      },
      "outputs": [
        {
          "data": {
            "text/plain": [
              "array(['albatross sp.', 'Australasian Gannet', 'Australian Magpie',\n",
              "       'New Zealand Pipit', 'Black-browed Albatross', 'Black-billed Gull',\n",
              "       'Black-fronted Tern', 'Black Swan', \"Buller's Albatross\",\n",
              "       \"Buller's Shearwater\", 'California Quail', 'Canada Goose',\n",
              "       'Cape Petrel', 'Caspian Tern', 'Cirl Bunting', 'Common Chaffinch',\n",
              "       'Double-banded Plover', 'Dunnock', 'Eurasian Blackbird',\n",
              "       'European Goldfinch', 'European Greenfinch', 'European Starling',\n",
              "       'Fluttering Shearwater', 'Great Cormorant', 'Gray Teal',\n",
              "       'Gray Gerygone', 'House Sparrow', \"Hutton's Shearwater\",\n",
              "       'Kelp Gull', 'Little Pied Cormorant', 'Little Owl', 'Mallard',\n",
              "       'Masked Lapwing', 'New Zealand Bellbird', 'New Zealand Falcon',\n",
              "       'New Zealand Fantail', 'New Zealand Pigeon', 'South Island Robin',\n",
              "       'New Zealand Scaup', 'Northern Giant-Petrel', 'Pacific Reef-Heron',\n",
              "       'Paradise Shelduck', 'passerine sp.', 'Pied Cormorant',\n",
              "       'Pied Stilt', 'Pipipi', 'Procellaria sp.', 'Rock Pigeon',\n",
              "       'Southern Royal Albatross', 'Northern Royal Albatross',\n",
              "       'Royal Spoonbill', 'Ruddy Turnstone', 'Sacred Kingfisher',\n",
              "       \"Salvin's Albatross\", 'Shining Bronze-Cuckoo', 'shearwater sp.',\n",
              "       'Silver Gull', 'Silvereye', 'Eurasian Skylark',\n",
              "       'small albatross sp.', 'South Island Oystercatcher', 'Song Thrush',\n",
              "       'Spotted Shag', 'Swamp Harrier', 'Tomtit', 'Tui',\n",
              "       'Variable Oystercatcher', 'Snowy/Tristan/Antipodean Albatross',\n",
              "       'Welcome Swallow', 'Westland Petrel', 'White-capped Albatross',\n",
              "       'White-faced Heron', 'White-fronted Tern',\n",
              "       'Mallard x Pacific Black Duck (hybrid)',\n",
              "       'Silver/Black-billed Gull', 'Tui/New Zealand Bellbird',\n",
              "       'Yellowhammer', 'Anas sp.', 'Australasian Shoveler',\n",
              "       'Black-fronted Dotterel', 'Eurasian Coot', 'Graylag Goose',\n",
              "       'Lesser Redpoll', 'Long-tailed Koel', 'Morepork',\n",
              "       'New Zealand Kaka', 'Pacific Black Duck', 'Parasitic Jaeger',\n",
              "       'Australasian Swamphen', 'Rifleman', 'tern sp.',\n",
              "       'Yellow-crowned Parakeet', 'African Collared-Dove',\n",
              "       'Bar-tailed Godwit', 'Black Stilt', 'Eastern Cattle Egret',\n",
              "       'Indian Peafowl', 'Great Crested Grebe', 'Great Egret',\n",
              "       'Little Black Cormorant', 'Mute Swan', 'oystercatcher sp.',\n",
              "       'Pectoral Sandpiper', 'Red Knot', 'Ring-necked Pheasant',\n",
              "       'Sharp-tailed Sandpiper', 'Wild Turkey', 'Wrybill',\n",
              "       'Pied x Black Stilt (hybrid)',\n",
              "       'South Island x Variable Oystercatcher (hybrid)',\n",
              "       'Australasian Bittern', \"Baillon's Crake\", 'Cape Barren Goose',\n",
              "       'cormorant sp.', 'jaeger sp.', 'Little Penguin', 'Little Tern',\n",
              "       'Muscovy Duck x Mallard (hybrid)', 'Muscovy Duck',\n",
              "       'Pomarine Jaeger', 'Red-necked Stint', 'Sooty Shearwater',\n",
              "       'Sulphur-crested Cockatoo', 'Graylag x Canada Goose (hybrid)',\n",
              "       'bird sp.', 'Cyanoramphus sp.', 'Great Spotted Kiwi',\n",
              "       'Greater Sand-Plover', 'Helmeted Guineafowl', 'Kea',\n",
              "       'large albatross sp.', 'Long-toed Stint', \"Malherbe's Parakeet\",\n",
              "       'Marsh Sandpiper', 'Pacific Golden-Plover', 'Spotted Dove',\n",
              "       'Southern/Northern Giant-Petrel', 'Yellowhead', 'Chukar',\n",
              "       'duck sp.', 'South Island Wren', 'Antipodean Albatross',\n",
              "       'Erect-crested Penguin', 'gull sp.',\n",
              "       'Northern/Southern Royal Albatross',\n",
              "       \"Hutton's/Fluttering Shearwater\", 'Sanderling', 'Golden Pheasant',\n",
              "       'waterfowl sp.', 'New Zealand Fernbird', 'Northern Shoveler',\n",
              "       'White-winged Tern', 'Common Diving-Petrel',\n",
              "       'Short-tailed Shearwater', 'Sooty/Short-tailed Shearwater',\n",
              "       'Little Egret', 'New Zealand Grebe', 'parakeet sp.',\n",
              "       'Red Junglefowl', 'Stewart Island Shag',\n",
              "       'Mallard/Pacific Black Duck', 'Curlew Sandpiper', 'Emu',\n",
              "       'Chestnut Teal', 'Fiordland Penguin', 'Glossy Ibis',\n",
              "       'Spotless Crake', 'dabbling duck sp.', 'Southern Fulmar',\n",
              "       'Gull-billed/Australian Tern', 'Australian Tern',\n",
              "       'Terek Sandpiper', 'Australasian Grebe', 'Common Myna',\n",
              "       'Turdus sp.'], dtype=object)"
            ]
          },
          "execution_count": 13,
          "metadata": {},
          "output_type": "execute_result"
        }
      ],
      "source": [
        "cbirds_filtered['COMMON NAME'].unique()"
      ]
    },
    {
      "cell_type": "code",
      "execution_count": null,
      "metadata": {
        "id": "deytqWoL8Gmt"
      },
      "outputs": [],
      "source": [
        "# check the unique of bcr code\n",
        "#cbirds_filtered['BCR CODE']"
      ]
    },
    {
      "cell_type": "code",
      "execution_count": 14,
      "metadata": {
        "colab": {
          "base_uri": "https://localhost:8080/"
        },
        "id": "FAnpecrt__sb",
        "outputId": "b331493c-d155-40c1-9d96-2cdf84a90d1d"
      },
      "outputs": [
        {
          "data": {
            "text/plain": [
              "Index(['GLOBAL UNIQUE IDENTIFIER', 'LAST EDITED DATE', 'TAXONOMIC ORDER',\n",
              "       'CATEGORY', 'TAXON CONCEPT ID', 'COMMON NAME', 'SCIENTIFIC NAME',\n",
              "       'SUBSPECIES COMMON NAME', 'SUBSPECIES SCIENTIFIC NAME', 'EXOTIC CODE',\n",
              "       'OBSERVATION COUNT', 'BREEDING CODE', 'BREEDING CATEGORY',\n",
              "       'BEHAVIOR CODE', 'AGE/SEX', 'COUNTRY', 'COUNTRY CODE', 'STATE',\n",
              "       'STATE CODE', 'COUNTY', 'COUNTY CODE', 'IBA CODE', 'BCR CODE',\n",
              "       'USFWS CODE', 'ATLAS BLOCK', 'LOCALITY', 'LOCALITY ID', 'LOCALITY TYPE',\n",
              "       'LATITUDE', 'LONGITUDE', 'OBSERVATION DATE',\n",
              "       'TIME OBSERVATIONS STARTED', 'OBSERVER ID', 'SAMPLING EVENT IDENTIFIER',\n",
              "       'PROTOCOL TYPE', 'PROTOCOL CODE', 'PROJECT CODE', 'DURATION MINUTES',\n",
              "       'EFFORT DISTANCE KM', 'EFFORT AREA HA', 'NUMBER OBSERVERS',\n",
              "       'ALL SPECIES REPORTED', 'GROUP IDENTIFIER', 'HAS MEDIA', 'APPROVED',\n",
              "       'REVIEWED', 'REASON', 'TRIP COMMENTS', 'SPECIES COMMENTS'],\n",
              "      dtype='object')"
            ]
          },
          "execution_count": 14,
          "metadata": {},
          "output_type": "execute_result"
        }
      ],
      "source": [
        "cbirds_filtered.columns"
      ]
    },
    {
      "cell_type": "code",
      "execution_count": 16,
      "metadata": {
        "colab": {
          "base_uri": "https://localhost:8080/",
          "height": 339
        },
        "id": "e10Ek0RflZGM",
        "outputId": "d0f7305e-2bd7-4fad-efe8-95592e3d8a97"
      },
      "outputs": [],
      "source": [
        "# convert 'last edited date' into date formate\n",
        "cbirds_filtered['LAST EDITED DATE'] = pd.to_datetime(cbirds_filtered['LAST EDITED DATE'])"
      ]
    },
    {
      "cell_type": "code",
      "execution_count": 17,
      "metadata": {
        "id": "3mdQSf6UlpTY"
      },
      "outputs": [],
      "source": [
        "# create month column from 'last edited date'\n",
        "cbirds_filtered['Last Edited Month'] = cbirds_filtered['LAST EDITED DATE'].dt.month"
      ]
    },
    {
      "cell_type": "code",
      "execution_count": 19,
      "metadata": {},
      "outputs": [
        {
          "data": {
            "text/plain": [
              "Index(['GLOBAL UNIQUE IDENTIFIER', 'LAST EDITED DATE', 'TAXONOMIC ORDER',\n",
              "       'CATEGORY', 'TAXON CONCEPT ID', 'COMMON NAME', 'SCIENTIFIC NAME',\n",
              "       'SUBSPECIES COMMON NAME', 'SUBSPECIES SCIENTIFIC NAME', 'EXOTIC CODE',\n",
              "       'OBSERVATION COUNT', 'BREEDING CODE', 'BREEDING CATEGORY',\n",
              "       'BEHAVIOR CODE', 'AGE/SEX', 'COUNTRY', 'COUNTRY CODE', 'STATE',\n",
              "       'STATE CODE', 'COUNTY', 'COUNTY CODE', 'IBA CODE', 'BCR CODE',\n",
              "       'USFWS CODE', 'ATLAS BLOCK', 'LOCALITY', 'LOCALITY ID', 'LOCALITY TYPE',\n",
              "       'LATITUDE', 'LONGITUDE', 'OBSERVATION DATE',\n",
              "       'TIME OBSERVATIONS STARTED', 'OBSERVER ID', 'SAMPLING EVENT IDENTIFIER',\n",
              "       'PROTOCOL TYPE', 'PROTOCOL CODE', 'PROJECT CODE', 'DURATION MINUTES',\n",
              "       'EFFORT DISTANCE KM', 'EFFORT AREA HA', 'NUMBER OBSERVERS',\n",
              "       'ALL SPECIES REPORTED', 'GROUP IDENTIFIER', 'HAS MEDIA', 'APPROVED',\n",
              "       'REVIEWED', 'REASON', 'TRIP COMMENTS', 'SPECIES COMMENTS',\n",
              "       'Last Edited Month'],\n",
              "      dtype='object')"
            ]
          },
          "execution_count": 19,
          "metadata": {},
          "output_type": "execute_result"
        }
      ],
      "source": [
        "cbirds_filtered.columns"
      ]
    },
    {
      "cell_type": "code",
      "execution_count": 20,
      "metadata": {
        "colab": {
          "base_uri": "https://localhost:8080/"
        },
        "id": "ZhP2kgeulyxr",
        "outputId": "29469e73-896e-4acc-e950-90d350697299"
      },
      "outputs": [
        {
          "data": {
            "text/plain": [
              "array([ 1, 12, 10,  3,  9,  2,  7, 11,  5,  8,  4,  6], dtype=int32)"
            ]
          },
          "execution_count": 20,
          "metadata": {},
          "output_type": "execute_result"
        }
      ],
      "source": [
        "cbirds_filtered['Last Edited Month'].unique()"
      ]
    },
    {
      "cell_type": "code",
      "execution_count": 21,
      "metadata": {
        "id": "Fx93X6sXmtYi"
      },
      "outputs": [],
      "source": [
        "cbirds_filtered['OBSERVATION DATE'] = pd.to_datetime(cbirds_filtered['OBSERVATION DATE'])"
      ]
    },
    {
      "cell_type": "code",
      "execution_count": 22,
      "metadata": {
        "id": "52KH6Tj5nEnf"
      },
      "outputs": [],
      "source": [
        "cbirds_filtered['obs_month'] = cbirds_filtered['OBSERVATION DATE'].dt.month"
      ]
    },
    {
      "cell_type": "code",
      "execution_count": 23,
      "metadata": {
        "colab": {
          "base_uri": "https://localhost:8080/"
        },
        "id": "IkqCna--nNHu",
        "outputId": "9bffdcd8-2487-4bd7-89f9-9f931f78945e"
      },
      "outputs": [
        {
          "data": {
            "text/plain": [
              "array([ 1,  2,  3,  4,  5,  6,  7,  8,  9, 10, 11, 12], dtype=int32)"
            ]
          },
          "execution_count": 23,
          "metadata": {},
          "output_type": "execute_result"
        }
      ],
      "source": [
        "cbirds_filtered.obs_month.unique()"
      ]
    },
    {
      "cell_type": "code",
      "execution_count": 24,
      "metadata": {
        "colab": {
          "base_uri": "https://localhost:8080/",
          "height": 489
        },
        "id": "iKq4jDBEBQFL",
        "outputId": "12738509-a77e-420a-d567-e3811a112024"
      },
      "outputs": [
        {
          "data": {
            "text/plain": [
              "TAXON CONCEPT ID\n",
              "avibase-88BB4F2A    10148\n",
              "avibase-240E3390     9650\n",
              "avibase-94A44032     8393\n",
              "avibase-E6536E4E     7835\n",
              "avibase-6364E4A5     7761\n",
              "                    ...  \n",
              "avibase-EDEC5EC5        1\n",
              "avibase-4C26D29D        1\n",
              "avibase-2F2A913A        1\n",
              "avibase-47AF130E        1\n",
              "avibase-96706851        1\n",
              "Name: count, Length: 196, dtype: int64"
            ]
          },
          "execution_count": 24,
          "metadata": {},
          "output_type": "execute_result"
        }
      ],
      "source": [
        "cbirds_filtered['TAXON CONCEPT ID'].value_counts()"
      ]
    },
    {
      "cell_type": "code",
      "execution_count": 25,
      "metadata": {
        "colab": {
          "base_uri": "https://localhost:8080/",
          "height": 209
        },
        "id": "YPJfKr5aC4mH",
        "outputId": "a4c8db52-9ba9-4692-8b5f-234c48a2aadb"
      },
      "outputs": [
        {
          "data": {
            "text/plain": [
              "EXOTIC CODE\n",
              "N    90447\n",
              "X      645\n",
              "P      333\n",
              "Name: count, dtype: int64"
            ]
          },
          "execution_count": 25,
          "metadata": {},
          "output_type": "execute_result"
        }
      ],
      "source": [
        "cbirds_filtered['EXOTIC CODE'].value_counts()"
      ]
    },
    {
      "cell_type": "code",
      "execution_count": 26,
      "metadata": {
        "colab": {
          "base_uri": "https://localhost:8080/",
          "height": 489
        },
        "id": "nxftWTJdDjKC",
        "outputId": "a9f1d604-7a42-4bff-db7c-b0a65942afb2"
      },
      "outputs": [
        {
          "data": {
            "text/plain": [
              "OBSERVATION COUNT\n",
              "1       56858\n",
              "2       42594\n",
              "3       18839\n",
              "4       14860\n",
              "5        9714\n",
              "        ...  \n",
              "671         1\n",
              "810         1\n",
              "470         1\n",
              "227         1\n",
              "1400        1\n",
              "Name: count, Length: 386, dtype: int64"
            ]
          },
          "execution_count": 26,
          "metadata": {},
          "output_type": "execute_result"
        }
      ],
      "source": [
        "cbirds_filtered['OBSERVATION COUNT'].value_counts()"
      ]
    },
    {
      "cell_type": "code",
      "execution_count": 27,
      "metadata": {
        "colab": {
          "base_uri": "https://localhost:8080/"
        },
        "id": "BrD6s-NcF1Lp",
        "outputId": "27574027-ce77-430d-ea8f-0fb0a45338f9"
      },
      "outputs": [
        {
          "data": {
            "text/plain": [
              "array([nan])"
            ]
          },
          "execution_count": 27,
          "metadata": {},
          "output_type": "execute_result"
        }
      ],
      "source": [
        "cbirds_filtered['BCR CODE'].unique()"
      ]
    },
    {
      "cell_type": "code",
      "execution_count": 28,
      "metadata": {
        "id": "bA4AEV_Y-YSe"
      },
      "outputs": [],
      "source": [
        "# drop unuse cols\n",
        "cbirds_filtered.drop(['GLOBAL UNIQUE IDENTIFIER', 'SUBSPECIES SCIENTIFIC NAME','BCR CODE','USFWS CODE','TAXON CONCEPT ID','AGE/SEX','COUNTRY','COUNTRY CODE','STATE','OBSERVER ID','SAMPLING EVENT IDENTIFIER','PROTOCOL TYPE','PROTOCOL CODE','PROJECT CODE','DURATION MINUTES','EFFORT DISTANCE KM','EFFORT AREA HA','NUMBER OBSERVERS','GROUP IDENTIFIER','HAS MEDIA','REVIEWED','REASON','TRIP COMMENTS','SPECIES COMMENTS','SUBSPECIES COMMON NAME','ALL SPECIES REPORTED'], axis=1, inplace=True)"
      ]
    },
    {
      "cell_type": "code",
      "execution_count": 29,
      "metadata": {
        "colab": {
          "base_uri": "https://localhost:8080/",
          "height": 672
        },
        "id": "QvBuUmsFI12N",
        "outputId": "f3c5b749-76a3-445e-f9ff-941a308945c0"
      },
      "outputs": [
        {
          "data": {
            "text/html": [
              "<div>\n",
              "<style scoped>\n",
              "    .dataframe tbody tr th:only-of-type {\n",
              "        vertical-align: middle;\n",
              "    }\n",
              "\n",
              "    .dataframe tbody tr th {\n",
              "        vertical-align: top;\n",
              "    }\n",
              "\n",
              "    .dataframe thead th {\n",
              "        text-align: right;\n",
              "    }\n",
              "</style>\n",
              "<table border=\"1\" class=\"dataframe\">\n",
              "  <thead>\n",
              "    <tr style=\"text-align: right;\">\n",
              "      <th></th>\n",
              "      <th>LAST EDITED DATE</th>\n",
              "      <th>TAXONOMIC ORDER</th>\n",
              "      <th>CATEGORY</th>\n",
              "      <th>COMMON NAME</th>\n",
              "      <th>SCIENTIFIC NAME</th>\n",
              "      <th>EXOTIC CODE</th>\n",
              "      <th>OBSERVATION COUNT</th>\n",
              "      <th>BREEDING CODE</th>\n",
              "      <th>BREEDING CATEGORY</th>\n",
              "      <th>BEHAVIOR CODE</th>\n",
              "      <th>...</th>\n",
              "      <th>LOCALITY</th>\n",
              "      <th>LOCALITY ID</th>\n",
              "      <th>LOCALITY TYPE</th>\n",
              "      <th>LATITUDE</th>\n",
              "      <th>LONGITUDE</th>\n",
              "      <th>OBSERVATION DATE</th>\n",
              "      <th>TIME OBSERVATIONS STARTED</th>\n",
              "      <th>APPROVED</th>\n",
              "      <th>Last Edited Month</th>\n",
              "      <th>obs_month</th>\n",
              "    </tr>\n",
              "  </thead>\n",
              "  <tbody>\n",
              "    <tr>\n",
              "      <th>0</th>\n",
              "      <td>2023-01-11</td>\n",
              "      <td>6851</td>\n",
              "      <td>spuh</td>\n",
              "      <td>albatross sp.</td>\n",
              "      <td>Diomedeidae sp.</td>\n",
              "      <td>NaN</td>\n",
              "      <td>1</td>\n",
              "      <td>NaN</td>\n",
              "      <td>NaN</td>\n",
              "      <td>NaN</td>\n",
              "      <td>...</td>\n",
              "      <td>Hikurangi Marine Reserve, Kaikōura NZ-Canterbu...</td>\n",
              "      <td>L22166918</td>\n",
              "      <td>P</td>\n",
              "      <td>-42.458124</td>\n",
              "      <td>173.554744</td>\n",
              "      <td>2023-01-12</td>\n",
              "      <td>11:41:00</td>\n",
              "      <td>1</td>\n",
              "      <td>1</td>\n",
              "      <td>1</td>\n",
              "    </tr>\n",
              "    <tr>\n",
              "      <th>1</th>\n",
              "      <td>2023-01-11</td>\n",
              "      <td>6851</td>\n",
              "      <td>spuh</td>\n",
              "      <td>albatross sp.</td>\n",
              "      <td>Diomedeidae sp.</td>\n",
              "      <td>NaN</td>\n",
              "      <td>4</td>\n",
              "      <td>NaN</td>\n",
              "      <td>NaN</td>\n",
              "      <td>NaN</td>\n",
              "      <td>...</td>\n",
              "      <td>North of Clarence River Mouth, Kaikōura NZ-Can...</td>\n",
              "      <td>L22168688</td>\n",
              "      <td>P</td>\n",
              "      <td>-42.171416</td>\n",
              "      <td>173.932336</td>\n",
              "      <td>2023-01-12</td>\n",
              "      <td>13:16:00</td>\n",
              "      <td>1</td>\n",
              "      <td>1</td>\n",
              "      <td>1</td>\n",
              "    </tr>\n",
              "    <tr>\n",
              "      <th>3</th>\n",
              "      <td>2023-12-11</td>\n",
              "      <td>7167</td>\n",
              "      <td>species</td>\n",
              "      <td>Australasian Gannet</td>\n",
              "      <td>Morus serrator</td>\n",
              "      <td>NaN</td>\n",
              "      <td>1</td>\n",
              "      <td>NaN</td>\n",
              "      <td>NaN</td>\n",
              "      <td>NaN</td>\n",
              "      <td>...</td>\n",
              "      <td>Kaikoura--town waterfront</td>\n",
              "      <td>L1249759</td>\n",
              "      <td>H</td>\n",
              "      <td>-42.402038</td>\n",
              "      <td>173.682518</td>\n",
              "      <td>2023-01-21</td>\n",
              "      <td>11:59:00</td>\n",
              "      <td>1</td>\n",
              "      <td>12</td>\n",
              "      <td>1</td>\n",
              "    </tr>\n",
              "    <tr>\n",
              "      <th>4</th>\n",
              "      <td>2023-01-18</td>\n",
              "      <td>7167</td>\n",
              "      <td>species</td>\n",
              "      <td>Australasian Gannet</td>\n",
              "      <td>Morus serrator</td>\n",
              "      <td>NaN</td>\n",
              "      <td>1</td>\n",
              "      <td>NaN</td>\n",
              "      <td>NaN</td>\n",
              "      <td>NaN</td>\n",
              "      <td>...</td>\n",
              "      <td>1200 Alpine Pacific Touring Route, Peketā, Can...</td>\n",
              "      <td>L22249885</td>\n",
              "      <td>P</td>\n",
              "      <td>-42.451887</td>\n",
              "      <td>173.568536</td>\n",
              "      <td>2023-01-18</td>\n",
              "      <td>11:02:00</td>\n",
              "      <td>1</td>\n",
              "      <td>1</td>\n",
              "      <td>1</td>\n",
              "    </tr>\n",
              "    <tr>\n",
              "      <th>5</th>\n",
              "      <td>2023-10-17</td>\n",
              "      <td>7167</td>\n",
              "      <td>species</td>\n",
              "      <td>Australasian Gannet</td>\n",
              "      <td>Morus serrator</td>\n",
              "      <td>NaN</td>\n",
              "      <td>2</td>\n",
              "      <td>NaN</td>\n",
              "      <td>NaN</td>\n",
              "      <td>NaN</td>\n",
              "      <td>...</td>\n",
              "      <td>Kaikoura South Coast--Oaro River Mouth</td>\n",
              "      <td>L12602431</td>\n",
              "      <td>H</td>\n",
              "      <td>-42.513964</td>\n",
              "      <td>173.507146</td>\n",
              "      <td>2023-01-15</td>\n",
              "      <td>12:05:00</td>\n",
              "      <td>1</td>\n",
              "      <td>10</td>\n",
              "      <td>1</td>\n",
              "    </tr>\n",
              "  </tbody>\n",
              "</table>\n",
              "<p>5 rows × 25 columns</p>\n",
              "</div>"
            ],
            "text/plain": [
              "  LAST EDITED DATE  TAXONOMIC ORDER CATEGORY          COMMON NAME  \\\n",
              "0       2023-01-11             6851     spuh        albatross sp.   \n",
              "1       2023-01-11             6851     spuh        albatross sp.   \n",
              "3       2023-12-11             7167  species  Australasian Gannet   \n",
              "4       2023-01-18             7167  species  Australasian Gannet   \n",
              "5       2023-10-17             7167  species  Australasian Gannet   \n",
              "\n",
              "   SCIENTIFIC NAME EXOTIC CODE OBSERVATION COUNT BREEDING CODE  \\\n",
              "0  Diomedeidae sp.         NaN                 1           NaN   \n",
              "1  Diomedeidae sp.         NaN                 4           NaN   \n",
              "3   Morus serrator         NaN                 1           NaN   \n",
              "4   Morus serrator         NaN                 1           NaN   \n",
              "5   Morus serrator         NaN                 2           NaN   \n",
              "\n",
              "  BREEDING CATEGORY BEHAVIOR CODE  ...  \\\n",
              "0               NaN           NaN  ...   \n",
              "1               NaN           NaN  ...   \n",
              "3               NaN           NaN  ...   \n",
              "4               NaN           NaN  ...   \n",
              "5               NaN           NaN  ...   \n",
              "\n",
              "                                            LOCALITY LOCALITY ID  \\\n",
              "0  Hikurangi Marine Reserve, Kaikōura NZ-Canterbu...   L22166918   \n",
              "1  North of Clarence River Mouth, Kaikōura NZ-Can...   L22168688   \n",
              "3                          Kaikoura--town waterfront    L1249759   \n",
              "4  1200 Alpine Pacific Touring Route, Peketā, Can...   L22249885   \n",
              "5             Kaikoura South Coast--Oaro River Mouth   L12602431   \n",
              "\n",
              "  LOCALITY TYPE   LATITUDE   LONGITUDE OBSERVATION DATE  \\\n",
              "0             P -42.458124  173.554744       2023-01-12   \n",
              "1             P -42.171416  173.932336       2023-01-12   \n",
              "3             H -42.402038  173.682518       2023-01-21   \n",
              "4             P -42.451887  173.568536       2023-01-18   \n",
              "5             H -42.513964  173.507146       2023-01-15   \n",
              "\n",
              "  TIME OBSERVATIONS STARTED APPROVED  Last Edited Month  obs_month  \n",
              "0                  11:41:00        1                  1          1  \n",
              "1                  13:16:00        1                  1          1  \n",
              "3                  11:59:00        1                 12          1  \n",
              "4                  11:02:00        1                  1          1  \n",
              "5                  12:05:00        1                 10          1  \n",
              "\n",
              "[5 rows x 25 columns]"
            ]
          },
          "execution_count": 29,
          "metadata": {},
          "output_type": "execute_result"
        }
      ],
      "source": [
        "cbirds_filtered.head()"
      ]
    },
    {
      "cell_type": "code",
      "execution_count": null,
      "metadata": {
        "id": "b6KmuAH4I3n-"
      },
      "outputs": [],
      "source": [
        "#"
      ]
    },
    {
      "cell_type": "code",
      "execution_count": null,
      "metadata": {
        "id": "ZvmdOl2JI-ck"
      },
      "outputs": [],
      "source": [
        "# further drop\n",
        "#cbirds_filtered = cbirds_filtered.drop(['SUBSPECIES COMMON NAME','ATLAS BLOCK'], axis=1)"
      ]
    },
    {
      "cell_type": "code",
      "execution_count": 30,
      "metadata": {
        "colab": {
          "base_uri": "https://localhost:8080/"
        },
        "id": "RfosY8aJMWc-",
        "outputId": "408d5b0a-1d9e-4779-c026-fce3dc34e52f"
      },
      "outputs": [
        {
          "data": {
            "text/plain": [
              "Index(['LAST EDITED DATE', 'TAXONOMIC ORDER', 'CATEGORY', 'COMMON NAME',\n",
              "       'SCIENTIFIC NAME', 'EXOTIC CODE', 'OBSERVATION COUNT', 'BREEDING CODE',\n",
              "       'BREEDING CATEGORY', 'BEHAVIOR CODE', 'STATE CODE', 'COUNTY',\n",
              "       'COUNTY CODE', 'IBA CODE', 'ATLAS BLOCK', 'LOCALITY', 'LOCALITY ID',\n",
              "       'LOCALITY TYPE', 'LATITUDE', 'LONGITUDE', 'OBSERVATION DATE',\n",
              "       'TIME OBSERVATIONS STARTED', 'APPROVED', 'Last Edited Month',\n",
              "       'obs_month'],\n",
              "      dtype='object')"
            ]
          },
          "execution_count": 30,
          "metadata": {},
          "output_type": "execute_result"
        }
      ],
      "source": [
        "cbirds_filtered.columns"
      ]
    },
    {
      "cell_type": "code",
      "execution_count": 31,
      "metadata": {
        "colab": {
          "base_uri": "https://localhost:8080/",
          "height": 672
        },
        "id": "gZN48D0gMZjp",
        "outputId": "35608c1f-e055-4f2d-ab52-2ca0448bcb40"
      },
      "outputs": [
        {
          "data": {
            "text/html": [
              "<div>\n",
              "<style scoped>\n",
              "    .dataframe tbody tr th:only-of-type {\n",
              "        vertical-align: middle;\n",
              "    }\n",
              "\n",
              "    .dataframe tbody tr th {\n",
              "        vertical-align: top;\n",
              "    }\n",
              "\n",
              "    .dataframe thead th {\n",
              "        text-align: right;\n",
              "    }\n",
              "</style>\n",
              "<table border=\"1\" class=\"dataframe\">\n",
              "  <thead>\n",
              "    <tr style=\"text-align: right;\">\n",
              "      <th></th>\n",
              "      <th>LAST EDITED DATE</th>\n",
              "      <th>TAXONOMIC ORDER</th>\n",
              "      <th>CATEGORY</th>\n",
              "      <th>COMMON NAME</th>\n",
              "      <th>SCIENTIFIC NAME</th>\n",
              "      <th>EXOTIC CODE</th>\n",
              "      <th>OBSERVATION COUNT</th>\n",
              "      <th>BREEDING CODE</th>\n",
              "      <th>BREEDING CATEGORY</th>\n",
              "      <th>BEHAVIOR CODE</th>\n",
              "      <th>...</th>\n",
              "      <th>LOCALITY</th>\n",
              "      <th>LOCALITY ID</th>\n",
              "      <th>LOCALITY TYPE</th>\n",
              "      <th>LATITUDE</th>\n",
              "      <th>LONGITUDE</th>\n",
              "      <th>OBSERVATION DATE</th>\n",
              "      <th>TIME OBSERVATIONS STARTED</th>\n",
              "      <th>APPROVED</th>\n",
              "      <th>Last Edited Month</th>\n",
              "      <th>obs_month</th>\n",
              "    </tr>\n",
              "  </thead>\n",
              "  <tbody>\n",
              "    <tr>\n",
              "      <th>0</th>\n",
              "      <td>2023-01-11</td>\n",
              "      <td>6851</td>\n",
              "      <td>spuh</td>\n",
              "      <td>albatross sp.</td>\n",
              "      <td>Diomedeidae sp.</td>\n",
              "      <td>NaN</td>\n",
              "      <td>1</td>\n",
              "      <td>NaN</td>\n",
              "      <td>NaN</td>\n",
              "      <td>NaN</td>\n",
              "      <td>...</td>\n",
              "      <td>Hikurangi Marine Reserve, Kaikōura NZ-Canterbu...</td>\n",
              "      <td>L22166918</td>\n",
              "      <td>P</td>\n",
              "      <td>-42.458124</td>\n",
              "      <td>173.554744</td>\n",
              "      <td>2023-01-12</td>\n",
              "      <td>11:41:00</td>\n",
              "      <td>1</td>\n",
              "      <td>1</td>\n",
              "      <td>1</td>\n",
              "    </tr>\n",
              "    <tr>\n",
              "      <th>1</th>\n",
              "      <td>2023-01-11</td>\n",
              "      <td>6851</td>\n",
              "      <td>spuh</td>\n",
              "      <td>albatross sp.</td>\n",
              "      <td>Diomedeidae sp.</td>\n",
              "      <td>NaN</td>\n",
              "      <td>4</td>\n",
              "      <td>NaN</td>\n",
              "      <td>NaN</td>\n",
              "      <td>NaN</td>\n",
              "      <td>...</td>\n",
              "      <td>North of Clarence River Mouth, Kaikōura NZ-Can...</td>\n",
              "      <td>L22168688</td>\n",
              "      <td>P</td>\n",
              "      <td>-42.171416</td>\n",
              "      <td>173.932336</td>\n",
              "      <td>2023-01-12</td>\n",
              "      <td>13:16:00</td>\n",
              "      <td>1</td>\n",
              "      <td>1</td>\n",
              "      <td>1</td>\n",
              "    </tr>\n",
              "    <tr>\n",
              "      <th>3</th>\n",
              "      <td>2023-12-11</td>\n",
              "      <td>7167</td>\n",
              "      <td>species</td>\n",
              "      <td>Australasian Gannet</td>\n",
              "      <td>Morus serrator</td>\n",
              "      <td>NaN</td>\n",
              "      <td>1</td>\n",
              "      <td>NaN</td>\n",
              "      <td>NaN</td>\n",
              "      <td>NaN</td>\n",
              "      <td>...</td>\n",
              "      <td>Kaikoura--town waterfront</td>\n",
              "      <td>L1249759</td>\n",
              "      <td>H</td>\n",
              "      <td>-42.402038</td>\n",
              "      <td>173.682518</td>\n",
              "      <td>2023-01-21</td>\n",
              "      <td>11:59:00</td>\n",
              "      <td>1</td>\n",
              "      <td>12</td>\n",
              "      <td>1</td>\n",
              "    </tr>\n",
              "    <tr>\n",
              "      <th>4</th>\n",
              "      <td>2023-01-18</td>\n",
              "      <td>7167</td>\n",
              "      <td>species</td>\n",
              "      <td>Australasian Gannet</td>\n",
              "      <td>Morus serrator</td>\n",
              "      <td>NaN</td>\n",
              "      <td>1</td>\n",
              "      <td>NaN</td>\n",
              "      <td>NaN</td>\n",
              "      <td>NaN</td>\n",
              "      <td>...</td>\n",
              "      <td>1200 Alpine Pacific Touring Route, Peketā, Can...</td>\n",
              "      <td>L22249885</td>\n",
              "      <td>P</td>\n",
              "      <td>-42.451887</td>\n",
              "      <td>173.568536</td>\n",
              "      <td>2023-01-18</td>\n",
              "      <td>11:02:00</td>\n",
              "      <td>1</td>\n",
              "      <td>1</td>\n",
              "      <td>1</td>\n",
              "    </tr>\n",
              "    <tr>\n",
              "      <th>5</th>\n",
              "      <td>2023-10-17</td>\n",
              "      <td>7167</td>\n",
              "      <td>species</td>\n",
              "      <td>Australasian Gannet</td>\n",
              "      <td>Morus serrator</td>\n",
              "      <td>NaN</td>\n",
              "      <td>2</td>\n",
              "      <td>NaN</td>\n",
              "      <td>NaN</td>\n",
              "      <td>NaN</td>\n",
              "      <td>...</td>\n",
              "      <td>Kaikoura South Coast--Oaro River Mouth</td>\n",
              "      <td>L12602431</td>\n",
              "      <td>H</td>\n",
              "      <td>-42.513964</td>\n",
              "      <td>173.507146</td>\n",
              "      <td>2023-01-15</td>\n",
              "      <td>12:05:00</td>\n",
              "      <td>1</td>\n",
              "      <td>10</td>\n",
              "      <td>1</td>\n",
              "    </tr>\n",
              "  </tbody>\n",
              "</table>\n",
              "<p>5 rows × 25 columns</p>\n",
              "</div>"
            ],
            "text/plain": [
              "  LAST EDITED DATE  TAXONOMIC ORDER CATEGORY          COMMON NAME  \\\n",
              "0       2023-01-11             6851     spuh        albatross sp.   \n",
              "1       2023-01-11             6851     spuh        albatross sp.   \n",
              "3       2023-12-11             7167  species  Australasian Gannet   \n",
              "4       2023-01-18             7167  species  Australasian Gannet   \n",
              "5       2023-10-17             7167  species  Australasian Gannet   \n",
              "\n",
              "   SCIENTIFIC NAME EXOTIC CODE OBSERVATION COUNT BREEDING CODE  \\\n",
              "0  Diomedeidae sp.         NaN                 1           NaN   \n",
              "1  Diomedeidae sp.         NaN                 4           NaN   \n",
              "3   Morus serrator         NaN                 1           NaN   \n",
              "4   Morus serrator         NaN                 1           NaN   \n",
              "5   Morus serrator         NaN                 2           NaN   \n",
              "\n",
              "  BREEDING CATEGORY BEHAVIOR CODE  ...  \\\n",
              "0               NaN           NaN  ...   \n",
              "1               NaN           NaN  ...   \n",
              "3               NaN           NaN  ...   \n",
              "4               NaN           NaN  ...   \n",
              "5               NaN           NaN  ...   \n",
              "\n",
              "                                            LOCALITY LOCALITY ID  \\\n",
              "0  Hikurangi Marine Reserve, Kaikōura NZ-Canterbu...   L22166918   \n",
              "1  North of Clarence River Mouth, Kaikōura NZ-Can...   L22168688   \n",
              "3                          Kaikoura--town waterfront    L1249759   \n",
              "4  1200 Alpine Pacific Touring Route, Peketā, Can...   L22249885   \n",
              "5             Kaikoura South Coast--Oaro River Mouth   L12602431   \n",
              "\n",
              "  LOCALITY TYPE   LATITUDE   LONGITUDE OBSERVATION DATE  \\\n",
              "0             P -42.458124  173.554744       2023-01-12   \n",
              "1             P -42.171416  173.932336       2023-01-12   \n",
              "3             H -42.402038  173.682518       2023-01-21   \n",
              "4             P -42.451887  173.568536       2023-01-18   \n",
              "5             H -42.513964  173.507146       2023-01-15   \n",
              "\n",
              "  TIME OBSERVATIONS STARTED APPROVED  Last Edited Month  obs_month  \n",
              "0                  11:41:00        1                  1          1  \n",
              "1                  13:16:00        1                  1          1  \n",
              "3                  11:59:00        1                 12          1  \n",
              "4                  11:02:00        1                  1          1  \n",
              "5                  12:05:00        1                 10          1  \n",
              "\n",
              "[5 rows x 25 columns]"
            ]
          },
          "execution_count": 31,
          "metadata": {},
          "output_type": "execute_result"
        }
      ],
      "source": [
        "cbirds_filtered.head()"
      ]
    },
    {
      "cell_type": "code",
      "execution_count": 32,
      "metadata": {
        "colab": {
          "base_uri": "https://localhost:8080/"
        },
        "id": "PP4YrDRMQJWD",
        "outputId": "08ef88cc-5996-4191-becc-7c0afd24f336"
      },
      "outputs": [
        {
          "data": {
            "text/plain": [
              "array(['albatross sp.', 'Australasian Gannet', 'Australian Magpie',\n",
              "       'New Zealand Pipit', 'Black-browed Albatross', 'Black-billed Gull',\n",
              "       'Black-fronted Tern', 'Black Swan', \"Buller's Albatross\",\n",
              "       \"Buller's Shearwater\", 'California Quail', 'Canada Goose',\n",
              "       'Cape Petrel', 'Caspian Tern', 'Cirl Bunting', 'Common Chaffinch',\n",
              "       'Double-banded Plover', 'Dunnock', 'Eurasian Blackbird',\n",
              "       'European Goldfinch', 'European Greenfinch', 'European Starling',\n",
              "       'Fluttering Shearwater', 'Great Cormorant', 'Gray Teal',\n",
              "       'Gray Gerygone', 'House Sparrow', \"Hutton's Shearwater\",\n",
              "       'Kelp Gull', 'Little Pied Cormorant', 'Little Owl', 'Mallard',\n",
              "       'Masked Lapwing', 'New Zealand Bellbird', 'New Zealand Falcon',\n",
              "       'New Zealand Fantail', 'New Zealand Pigeon', 'South Island Robin',\n",
              "       'New Zealand Scaup', 'Northern Giant-Petrel', 'Pacific Reef-Heron',\n",
              "       'Paradise Shelduck', 'passerine sp.', 'Pied Cormorant',\n",
              "       'Pied Stilt', 'Pipipi', 'Procellaria sp.', 'Rock Pigeon',\n",
              "       'Southern Royal Albatross', 'Northern Royal Albatross',\n",
              "       'Royal Spoonbill', 'Ruddy Turnstone', 'Sacred Kingfisher',\n",
              "       \"Salvin's Albatross\", 'Shining Bronze-Cuckoo', 'shearwater sp.',\n",
              "       'Silver Gull', 'Silvereye', 'Eurasian Skylark',\n",
              "       'small albatross sp.', 'South Island Oystercatcher', 'Song Thrush',\n",
              "       'Spotted Shag', 'Swamp Harrier', 'Tomtit', 'Tui',\n",
              "       'Variable Oystercatcher', 'Snowy/Tristan/Antipodean Albatross',\n",
              "       'Welcome Swallow', 'Westland Petrel', 'White-capped Albatross',\n",
              "       'White-faced Heron', 'White-fronted Tern',\n",
              "       'Mallard x Pacific Black Duck (hybrid)',\n",
              "       'Silver/Black-billed Gull', 'Tui/New Zealand Bellbird',\n",
              "       'Yellowhammer', 'Anas sp.', 'Australasian Shoveler',\n",
              "       'Black-fronted Dotterel', 'Eurasian Coot', 'Graylag Goose',\n",
              "       'Lesser Redpoll', 'Long-tailed Koel', 'Morepork',\n",
              "       'New Zealand Kaka', 'Pacific Black Duck', 'Parasitic Jaeger',\n",
              "       'Australasian Swamphen', 'Rifleman', 'tern sp.',\n",
              "       'Yellow-crowned Parakeet', 'African Collared-Dove',\n",
              "       'Bar-tailed Godwit', 'Black Stilt', 'Eastern Cattle Egret',\n",
              "       'Indian Peafowl', 'Great Crested Grebe', 'Great Egret',\n",
              "       'Little Black Cormorant', 'Mute Swan', 'oystercatcher sp.',\n",
              "       'Pectoral Sandpiper', 'Red Knot', 'Ring-necked Pheasant',\n",
              "       'Sharp-tailed Sandpiper', 'Wild Turkey', 'Wrybill',\n",
              "       'Pied x Black Stilt (hybrid)',\n",
              "       'South Island x Variable Oystercatcher (hybrid)',\n",
              "       'Australasian Bittern', \"Baillon's Crake\", 'Cape Barren Goose',\n",
              "       'cormorant sp.', 'jaeger sp.', 'Little Penguin', 'Little Tern',\n",
              "       'Muscovy Duck x Mallard (hybrid)', 'Muscovy Duck',\n",
              "       'Pomarine Jaeger', 'Red-necked Stint', 'Sooty Shearwater',\n",
              "       'Sulphur-crested Cockatoo', 'Graylag x Canada Goose (hybrid)',\n",
              "       'bird sp.', 'Cyanoramphus sp.', 'Great Spotted Kiwi',\n",
              "       'Greater Sand-Plover', 'Helmeted Guineafowl', 'Kea',\n",
              "       'large albatross sp.', 'Long-toed Stint', \"Malherbe's Parakeet\",\n",
              "       'Marsh Sandpiper', 'Pacific Golden-Plover', 'Spotted Dove',\n",
              "       'Southern/Northern Giant-Petrel', 'Yellowhead', 'Chukar',\n",
              "       'duck sp.', 'South Island Wren', 'Antipodean Albatross',\n",
              "       'Erect-crested Penguin', 'gull sp.',\n",
              "       'Northern/Southern Royal Albatross',\n",
              "       \"Hutton's/Fluttering Shearwater\", 'Sanderling', 'Golden Pheasant',\n",
              "       'waterfowl sp.', 'New Zealand Fernbird', 'Northern Shoveler',\n",
              "       'White-winged Tern', 'Common Diving-Petrel',\n",
              "       'Short-tailed Shearwater', 'Sooty/Short-tailed Shearwater',\n",
              "       'Little Egret', 'New Zealand Grebe', 'parakeet sp.',\n",
              "       'Red Junglefowl', 'Stewart Island Shag',\n",
              "       'Mallard/Pacific Black Duck', 'Curlew Sandpiper', 'Emu',\n",
              "       'Chestnut Teal', 'Fiordland Penguin', 'Glossy Ibis',\n",
              "       'Spotless Crake', 'dabbling duck sp.', 'Southern Fulmar',\n",
              "       'Gull-billed/Australian Tern', 'Australian Tern',\n",
              "       'Terek Sandpiper', 'Australasian Grebe', 'Common Myna',\n",
              "       'Turdus sp.'], dtype=object)"
            ]
          },
          "execution_count": 32,
          "metadata": {},
          "output_type": "execute_result"
        }
      ],
      "source": [
        "cbirds_filtered['COMMON NAME'].unique()"
      ]
    },
    {
      "cell_type": "code",
      "execution_count": 33,
      "metadata": {
        "id": "6HXeEofJKb5p"
      },
      "outputs": [],
      "source": [
        "#extract the migration birds type form common_name\n",
        "migration_birds_list = ['Bar-tailed Godwit','Pacific Golden-Plover','Ruddy Turnstone','Sharp-tailed Sandpiper','Red-necked Stint','Little Tern','white-winged tern','Southern/Northern Giant-Petrel','Short-tailed Shearwater','Eastern Cattle Egret']"
      ]
    },
    {
      "cell_type": "code",
      "execution_count": 34,
      "metadata": {
        "id": "4zRKKfpBbrF0"
      },
      "outputs": [],
      "source": [
        "migration_birds = cbirds_filtered[cbirds_filtered['COMMON NAME'].isin(migration_birds_list)]"
      ]
    },
    {
      "cell_type": "code",
      "execution_count": 35,
      "metadata": {
        "colab": {
          "base_uri": "https://localhost:8080/"
        },
        "id": "230Dt1IpbrTY",
        "outputId": "fdc0618e-108a-44da-98a9-1a29242be641"
      },
      "outputs": [
        {
          "data": {
            "text/plain": [
              "(1129, 25)"
            ]
          },
          "execution_count": 35,
          "metadata": {},
          "output_type": "execute_result"
        }
      ],
      "source": [
        "migration_birds.shape"
      ]
    },
    {
      "cell_type": "code",
      "execution_count": 36,
      "metadata": {
        "colab": {
          "base_uri": "https://localhost:8080/",
          "height": 397
        },
        "id": "TgXXI-b2bxH3",
        "outputId": "979a8b16-ccfe-4c4b-b5d6-f16dcd8adf49"
      },
      "outputs": [
        {
          "data": {
            "text/plain": [
              "COMMON NAME\n",
              "Bar-tailed Godwit                 612\n",
              "Ruddy Turnstone                   130\n",
              "Red-necked Stint                  108\n",
              "Eastern Cattle Egret              103\n",
              "Sharp-tailed Sandpiper             67\n",
              "Pacific Golden-Plover              59\n",
              "Little Tern                        31\n",
              "Southern/Northern Giant-Petrel     14\n",
              "Short-tailed Shearwater             5\n",
              "Name: count, dtype: int64"
            ]
          },
          "execution_count": 36,
          "metadata": {},
          "output_type": "execute_result"
        }
      ],
      "source": [
        "migration_birds['COMMON NAME'].value_counts()"
      ]
    },
    {
      "cell_type": "code",
      "execution_count": 37,
      "metadata": {
        "colab": {
          "base_uri": "https://localhost:8080/",
          "height": 568
        },
        "id": "8FBi_hqBb4PK",
        "outputId": "f6f479e6-b6f0-4543-d162-12a27a27255f"
      },
      "outputs": [
        {
          "data": {
            "text/html": [
              "<div>\n",
              "<style scoped>\n",
              "    .dataframe tbody tr th:only-of-type {\n",
              "        vertical-align: middle;\n",
              "    }\n",
              "\n",
              "    .dataframe tbody tr th {\n",
              "        vertical-align: top;\n",
              "    }\n",
              "\n",
              "    .dataframe thead th {\n",
              "        text-align: right;\n",
              "    }\n",
              "</style>\n",
              "<table border=\"1\" class=\"dataframe\">\n",
              "  <thead>\n",
              "    <tr style=\"text-align: right;\">\n",
              "      <th></th>\n",
              "      <th>LAST EDITED DATE</th>\n",
              "      <th>TAXONOMIC ORDER</th>\n",
              "      <th>CATEGORY</th>\n",
              "      <th>COMMON NAME</th>\n",
              "      <th>SCIENTIFIC NAME</th>\n",
              "      <th>EXOTIC CODE</th>\n",
              "      <th>OBSERVATION COUNT</th>\n",
              "      <th>BREEDING CODE</th>\n",
              "      <th>BREEDING CATEGORY</th>\n",
              "      <th>BEHAVIOR CODE</th>\n",
              "      <th>...</th>\n",
              "      <th>LOCALITY</th>\n",
              "      <th>LOCALITY ID</th>\n",
              "      <th>LOCALITY TYPE</th>\n",
              "      <th>LATITUDE</th>\n",
              "      <th>LONGITUDE</th>\n",
              "      <th>OBSERVATION DATE</th>\n",
              "      <th>TIME OBSERVATIONS STARTED</th>\n",
              "      <th>APPROVED</th>\n",
              "      <th>Last Edited Month</th>\n",
              "      <th>obs_month</th>\n",
              "    </tr>\n",
              "  </thead>\n",
              "  <tbody>\n",
              "    <tr>\n",
              "      <th>820</th>\n",
              "      <td>2023-01-10</td>\n",
              "      <td>6125</td>\n",
              "      <td>species</td>\n",
              "      <td>Ruddy Turnstone</td>\n",
              "      <td>Arenaria interpres</td>\n",
              "      <td>NaN</td>\n",
              "      <td>17</td>\n",
              "      <td>NaN</td>\n",
              "      <td>NaN</td>\n",
              "      <td>NaN</td>\n",
              "      <td>...</td>\n",
              "      <td>Kaikoura--Armers Beach</td>\n",
              "      <td>L1399210</td>\n",
              "      <td>H</td>\n",
              "      <td>-42.419497</td>\n",
              "      <td>173.706808</td>\n",
              "      <td>2023-01-09</td>\n",
              "      <td>20:33:00</td>\n",
              "      <td>1</td>\n",
              "      <td>1</td>\n",
              "      <td>1</td>\n",
              "    </tr>\n",
              "    <tr>\n",
              "      <th>821</th>\n",
              "      <td>2023-01-10</td>\n",
              "      <td>6125</td>\n",
              "      <td>species</td>\n",
              "      <td>Ruddy Turnstone</td>\n",
              "      <td>Arenaria interpres</td>\n",
              "      <td>NaN</td>\n",
              "      <td>17</td>\n",
              "      <td>NaN</td>\n",
              "      <td>NaN</td>\n",
              "      <td>NaN</td>\n",
              "      <td>...</td>\n",
              "      <td>Kaikoura--Armers Beach</td>\n",
              "      <td>L1399210</td>\n",
              "      <td>H</td>\n",
              "      <td>-42.419497</td>\n",
              "      <td>173.706808</td>\n",
              "      <td>2023-01-09</td>\n",
              "      <td>20:33:00</td>\n",
              "      <td>1</td>\n",
              "      <td>1</td>\n",
              "      <td>1</td>\n",
              "    </tr>\n",
              "    <tr>\n",
              "      <th>822</th>\n",
              "      <td>2023-01-11</td>\n",
              "      <td>6125</td>\n",
              "      <td>species</td>\n",
              "      <td>Ruddy Turnstone</td>\n",
              "      <td>Arenaria interpres</td>\n",
              "      <td>NaN</td>\n",
              "      <td>1</td>\n",
              "      <td>NaN</td>\n",
              "      <td>NaN</td>\n",
              "      <td>NaN</td>\n",
              "      <td>...</td>\n",
              "      <td>Kaikoura--Point Kean Seal Colony</td>\n",
              "      <td>L558781</td>\n",
              "      <td>H</td>\n",
              "      <td>-42.423583</td>\n",
              "      <td>173.716893</td>\n",
              "      <td>2023-01-12</td>\n",
              "      <td>12:52:00</td>\n",
              "      <td>1</td>\n",
              "      <td>1</td>\n",
              "      <td>1</td>\n",
              "    </tr>\n",
              "    <tr>\n",
              "      <th>4682</th>\n",
              "      <td>2023-01-12</td>\n",
              "      <td>6000</td>\n",
              "      <td>species</td>\n",
              "      <td>Bar-tailed Godwit</td>\n",
              "      <td>Limosa lapponica</td>\n",
              "      <td>NaN</td>\n",
              "      <td>10</td>\n",
              "      <td>NaN</td>\n",
              "      <td>NaN</td>\n",
              "      <td>NaN</td>\n",
              "      <td>...</td>\n",
              "      <td>Ashley River Estuary</td>\n",
              "      <td>L523080</td>\n",
              "      <td>H</td>\n",
              "      <td>-43.276705</td>\n",
              "      <td>172.718811</td>\n",
              "      <td>2023-01-12</td>\n",
              "      <td>12:05:00</td>\n",
              "      <td>1</td>\n",
              "      <td>1</td>\n",
              "      <td>1</td>\n",
              "    </tr>\n",
              "    <tr>\n",
              "      <th>4683</th>\n",
              "      <td>2022-12-31</td>\n",
              "      <td>6000</td>\n",
              "      <td>species</td>\n",
              "      <td>Bar-tailed Godwit</td>\n",
              "      <td>Limosa lapponica</td>\n",
              "      <td>NaN</td>\n",
              "      <td>2</td>\n",
              "      <td>NaN</td>\n",
              "      <td>NaN</td>\n",
              "      <td>NaN</td>\n",
              "      <td>...</td>\n",
              "      <td>Ashley Rakahuri Regional Park, Waikuku Beach N...</td>\n",
              "      <td>L21993117</td>\n",
              "      <td>P</td>\n",
              "      <td>-43.282429</td>\n",
              "      <td>172.721391</td>\n",
              "      <td>2023-01-01</td>\n",
              "      <td>12:26:00</td>\n",
              "      <td>1</td>\n",
              "      <td>12</td>\n",
              "      <td>1</td>\n",
              "    </tr>\n",
              "  </tbody>\n",
              "</table>\n",
              "<p>5 rows × 25 columns</p>\n",
              "</div>"
            ],
            "text/plain": [
              "     LAST EDITED DATE  TAXONOMIC ORDER CATEGORY        COMMON NAME  \\\n",
              "820        2023-01-10             6125  species    Ruddy Turnstone   \n",
              "821        2023-01-10             6125  species    Ruddy Turnstone   \n",
              "822        2023-01-11             6125  species    Ruddy Turnstone   \n",
              "4682       2023-01-12             6000  species  Bar-tailed Godwit   \n",
              "4683       2022-12-31             6000  species  Bar-tailed Godwit   \n",
              "\n",
              "         SCIENTIFIC NAME EXOTIC CODE OBSERVATION COUNT BREEDING CODE  \\\n",
              "820   Arenaria interpres         NaN                17           NaN   \n",
              "821   Arenaria interpres         NaN                17           NaN   \n",
              "822   Arenaria interpres         NaN                 1           NaN   \n",
              "4682    Limosa lapponica         NaN                10           NaN   \n",
              "4683    Limosa lapponica         NaN                 2           NaN   \n",
              "\n",
              "     BREEDING CATEGORY BEHAVIOR CODE  ...  \\\n",
              "820                NaN           NaN  ...   \n",
              "821                NaN           NaN  ...   \n",
              "822                NaN           NaN  ...   \n",
              "4682               NaN           NaN  ...   \n",
              "4683               NaN           NaN  ...   \n",
              "\n",
              "                                               LOCALITY LOCALITY ID  \\\n",
              "820                              Kaikoura--Armers Beach    L1399210   \n",
              "821                              Kaikoura--Armers Beach    L1399210   \n",
              "822                    Kaikoura--Point Kean Seal Colony     L558781   \n",
              "4682                               Ashley River Estuary     L523080   \n",
              "4683  Ashley Rakahuri Regional Park, Waikuku Beach N...   L21993117   \n",
              "\n",
              "     LOCALITY TYPE   LATITUDE   LONGITUDE OBSERVATION DATE  \\\n",
              "820              H -42.419497  173.706808       2023-01-09   \n",
              "821              H -42.419497  173.706808       2023-01-09   \n",
              "822              H -42.423583  173.716893       2023-01-12   \n",
              "4682             H -43.276705  172.718811       2023-01-12   \n",
              "4683             P -43.282429  172.721391       2023-01-01   \n",
              "\n",
              "     TIME OBSERVATIONS STARTED APPROVED  Last Edited Month  obs_month  \n",
              "820                   20:33:00        1                  1          1  \n",
              "821                   20:33:00        1                  1          1  \n",
              "822                   12:52:00        1                  1          1  \n",
              "4682                  12:05:00        1                  1          1  \n",
              "4683                  12:26:00        1                 12          1  \n",
              "\n",
              "[5 rows x 25 columns]"
            ]
          },
          "execution_count": 37,
          "metadata": {},
          "output_type": "execute_result"
        }
      ],
      "source": [
        "migration_birds.head()"
      ]
    },
    {
      "cell_type": "code",
      "execution_count": 38,
      "metadata": {
        "colab": {
          "base_uri": "https://localhost:8080/"
        },
        "id": "WUZ63vYvb6P1",
        "outputId": "60598aff-8f9e-4aa5-d0db-42cd5a02862d"
      },
      "outputs": [
        {
          "data": {
            "text/plain": [
              "array(['17', '1', '10', '2', '23', '120', '37', '3', '9', 'X', '22', '7',\n",
              "       '18', '12', '19', '20', '8', '25', '4', '28', '900', '60', '41',\n",
              "       '55', '16', '51', '40', '34', '100', '200', '6', '33', '5', '30',\n",
              "       '15', '11', '32', '45', '38', '42', '14', '24', '148', '52', '13',\n",
              "       '75', '26', '21', '50', '168', '150', '35', '126', '56', '43',\n",
              "       '58', '800', '64', '44', '235', '27', '140', '62', '73', '94',\n",
              "       '85', '109', '127', '70', '48', '138', '31', '66', '151', '29',\n",
              "       '78', '157', '46', '57', '350', '92', '67', '600', '225', '400',\n",
              "       '54', '123', '63', '146', '53', '254', '192', '256', '222', '175',\n",
              "       '250', '253', '243', '203', '36', '178', '160', '189', '280',\n",
              "       '134', '147', '158', '179', '121', '77', '129', '130', '82', '80',\n",
              "       '1200', '143'], dtype=object)"
            ]
          },
          "execution_count": 38,
          "metadata": {},
          "output_type": "execute_result"
        }
      ],
      "source": [
        "migration_birds['OBSERVATION COUNT'].unique()"
      ]
    },
    {
      "cell_type": "code",
      "execution_count": 39,
      "metadata": {
        "colab": {
          "base_uri": "https://localhost:8080/"
        },
        "id": "UpHOKi4NcLmo",
        "outputId": "a00099be-35c2-45b8-ab77-d7e41557a3c2"
      },
      "outputs": [
        {
          "name": "stderr",
          "output_type": "stream",
          "text": [
            "/var/folders/sb/fx7gkfvd347dl53rhgbljz_80000gp/T/ipykernel_36989/530686843.py:1: SettingWithCopyWarning: \n",
            "A value is trying to be set on a copy of a slice from a DataFrame.\n",
            "Try using .loc[row_indexer,col_indexer] = value instead\n",
            "\n",
            "See the caveats in the documentation: https://pandas.pydata.org/pandas-docs/stable/user_guide/indexing.html#returning-a-view-versus-a-copy\n",
            "  migration_birds['OBSERVATION COUNT'] = migration_birds['OBSERVATION COUNT'].replace('X', '1')\n"
          ]
        }
      ],
      "source": [
        "migration_birds['OBSERVATION COUNT'] = migration_birds['OBSERVATION COUNT'].replace('X', '1')"
      ]
    },
    {
      "cell_type": "code",
      "execution_count": 40,
      "metadata": {
        "colab": {
          "base_uri": "https://localhost:8080/"
        },
        "id": "QJbRaFsmcYMf",
        "outputId": "7aec43af-5cb4-47e3-c8d6-8da0b9a8f63b"
      },
      "outputs": [
        {
          "name": "stderr",
          "output_type": "stream",
          "text": [
            "/var/folders/sb/fx7gkfvd347dl53rhgbljz_80000gp/T/ipykernel_36989/4043691294.py:1: SettingWithCopyWarning: \n",
            "A value is trying to be set on a copy of a slice from a DataFrame.\n",
            "Try using .loc[row_indexer,col_indexer] = value instead\n",
            "\n",
            "See the caveats in the documentation: https://pandas.pydata.org/pandas-docs/stable/user_guide/indexing.html#returning-a-view-versus-a-copy\n",
            "  migration_birds['OBSERVATION COUNT'] = migration_birds['OBSERVATION COUNT'].astype(int)\n"
          ]
        }
      ],
      "source": [
        "migration_birds['OBSERVATION COUNT'] = migration_birds['OBSERVATION COUNT'].astype(int)"
      ]
    },
    {
      "cell_type": "code",
      "execution_count": 41,
      "metadata": {
        "colab": {
          "base_uri": "https://localhost:8080/"
        },
        "id": "mvjZ-b6lcZ0z",
        "outputId": "45bc790b-d152-454e-e00e-777c742a8759"
      },
      "outputs": [
        {
          "data": {
            "text/plain": [
              "35086"
            ]
          },
          "execution_count": 41,
          "metadata": {},
          "output_type": "execute_result"
        }
      ],
      "source": [
        "migration_birds['OBSERVATION COUNT'].sum()"
      ]
    },
    {
      "cell_type": "code",
      "execution_count": 42,
      "metadata": {
        "colab": {
          "base_uri": "https://localhost:8080/"
        },
        "id": "jDE7Y1K4cfoy",
        "outputId": "443ddb7c-ef31-45ea-ac8d-d9a9fef39f09"
      },
      "outputs": [
        {
          "data": {
            "text/plain": [
              "(194916, 25)"
            ]
          },
          "execution_count": 42,
          "metadata": {},
          "output_type": "execute_result"
        }
      ],
      "source": [
        "cbirds_filtered.shape"
      ]
    },
    {
      "cell_type": "code",
      "execution_count": 43,
      "metadata": {
        "id": "afzhJP-1ck8d"
      },
      "outputs": [],
      "source": [
        "# create new column assign 'M' to the rows which isin migration_birds_list otherwise to 'N'\n",
        "cbirds_filtered['Migration_type'] = np.where(cbirds_filtered['COMMON NAME'].isin(migration_birds_list), 'M', 'N')"
      ]
    },
    {
      "cell_type": "code",
      "execution_count": 44,
      "metadata": {
        "colab": {
          "base_uri": "https://localhost:8080/",
          "height": 672
        },
        "id": "3O-RBeYoeMTL",
        "outputId": "dba30cc9-c036-4627-929a-44f49ef9637e"
      },
      "outputs": [
        {
          "data": {
            "text/html": [
              "<div>\n",
              "<style scoped>\n",
              "    .dataframe tbody tr th:only-of-type {\n",
              "        vertical-align: middle;\n",
              "    }\n",
              "\n",
              "    .dataframe tbody tr th {\n",
              "        vertical-align: top;\n",
              "    }\n",
              "\n",
              "    .dataframe thead th {\n",
              "        text-align: right;\n",
              "    }\n",
              "</style>\n",
              "<table border=\"1\" class=\"dataframe\">\n",
              "  <thead>\n",
              "    <tr style=\"text-align: right;\">\n",
              "      <th></th>\n",
              "      <th>LAST EDITED DATE</th>\n",
              "      <th>TAXONOMIC ORDER</th>\n",
              "      <th>CATEGORY</th>\n",
              "      <th>COMMON NAME</th>\n",
              "      <th>SCIENTIFIC NAME</th>\n",
              "      <th>EXOTIC CODE</th>\n",
              "      <th>OBSERVATION COUNT</th>\n",
              "      <th>BREEDING CODE</th>\n",
              "      <th>BREEDING CATEGORY</th>\n",
              "      <th>BEHAVIOR CODE</th>\n",
              "      <th>...</th>\n",
              "      <th>LOCALITY ID</th>\n",
              "      <th>LOCALITY TYPE</th>\n",
              "      <th>LATITUDE</th>\n",
              "      <th>LONGITUDE</th>\n",
              "      <th>OBSERVATION DATE</th>\n",
              "      <th>TIME OBSERVATIONS STARTED</th>\n",
              "      <th>APPROVED</th>\n",
              "      <th>Last Edited Month</th>\n",
              "      <th>obs_month</th>\n",
              "      <th>Migration_type</th>\n",
              "    </tr>\n",
              "  </thead>\n",
              "  <tbody>\n",
              "    <tr>\n",
              "      <th>0</th>\n",
              "      <td>2023-01-11</td>\n",
              "      <td>6851</td>\n",
              "      <td>spuh</td>\n",
              "      <td>albatross sp.</td>\n",
              "      <td>Diomedeidae sp.</td>\n",
              "      <td>NaN</td>\n",
              "      <td>1</td>\n",
              "      <td>NaN</td>\n",
              "      <td>NaN</td>\n",
              "      <td>NaN</td>\n",
              "      <td>...</td>\n",
              "      <td>L22166918</td>\n",
              "      <td>P</td>\n",
              "      <td>-42.458124</td>\n",
              "      <td>173.554744</td>\n",
              "      <td>2023-01-12</td>\n",
              "      <td>11:41:00</td>\n",
              "      <td>1</td>\n",
              "      <td>1</td>\n",
              "      <td>1</td>\n",
              "      <td>N</td>\n",
              "    </tr>\n",
              "    <tr>\n",
              "      <th>1</th>\n",
              "      <td>2023-01-11</td>\n",
              "      <td>6851</td>\n",
              "      <td>spuh</td>\n",
              "      <td>albatross sp.</td>\n",
              "      <td>Diomedeidae sp.</td>\n",
              "      <td>NaN</td>\n",
              "      <td>4</td>\n",
              "      <td>NaN</td>\n",
              "      <td>NaN</td>\n",
              "      <td>NaN</td>\n",
              "      <td>...</td>\n",
              "      <td>L22168688</td>\n",
              "      <td>P</td>\n",
              "      <td>-42.171416</td>\n",
              "      <td>173.932336</td>\n",
              "      <td>2023-01-12</td>\n",
              "      <td>13:16:00</td>\n",
              "      <td>1</td>\n",
              "      <td>1</td>\n",
              "      <td>1</td>\n",
              "      <td>N</td>\n",
              "    </tr>\n",
              "    <tr>\n",
              "      <th>3</th>\n",
              "      <td>2023-12-11</td>\n",
              "      <td>7167</td>\n",
              "      <td>species</td>\n",
              "      <td>Australasian Gannet</td>\n",
              "      <td>Morus serrator</td>\n",
              "      <td>NaN</td>\n",
              "      <td>1</td>\n",
              "      <td>NaN</td>\n",
              "      <td>NaN</td>\n",
              "      <td>NaN</td>\n",
              "      <td>...</td>\n",
              "      <td>L1249759</td>\n",
              "      <td>H</td>\n",
              "      <td>-42.402038</td>\n",
              "      <td>173.682518</td>\n",
              "      <td>2023-01-21</td>\n",
              "      <td>11:59:00</td>\n",
              "      <td>1</td>\n",
              "      <td>12</td>\n",
              "      <td>1</td>\n",
              "      <td>N</td>\n",
              "    </tr>\n",
              "    <tr>\n",
              "      <th>4</th>\n",
              "      <td>2023-01-18</td>\n",
              "      <td>7167</td>\n",
              "      <td>species</td>\n",
              "      <td>Australasian Gannet</td>\n",
              "      <td>Morus serrator</td>\n",
              "      <td>NaN</td>\n",
              "      <td>1</td>\n",
              "      <td>NaN</td>\n",
              "      <td>NaN</td>\n",
              "      <td>NaN</td>\n",
              "      <td>...</td>\n",
              "      <td>L22249885</td>\n",
              "      <td>P</td>\n",
              "      <td>-42.451887</td>\n",
              "      <td>173.568536</td>\n",
              "      <td>2023-01-18</td>\n",
              "      <td>11:02:00</td>\n",
              "      <td>1</td>\n",
              "      <td>1</td>\n",
              "      <td>1</td>\n",
              "      <td>N</td>\n",
              "    </tr>\n",
              "    <tr>\n",
              "      <th>5</th>\n",
              "      <td>2023-10-17</td>\n",
              "      <td>7167</td>\n",
              "      <td>species</td>\n",
              "      <td>Australasian Gannet</td>\n",
              "      <td>Morus serrator</td>\n",
              "      <td>NaN</td>\n",
              "      <td>2</td>\n",
              "      <td>NaN</td>\n",
              "      <td>NaN</td>\n",
              "      <td>NaN</td>\n",
              "      <td>...</td>\n",
              "      <td>L12602431</td>\n",
              "      <td>H</td>\n",
              "      <td>-42.513964</td>\n",
              "      <td>173.507146</td>\n",
              "      <td>2023-01-15</td>\n",
              "      <td>12:05:00</td>\n",
              "      <td>1</td>\n",
              "      <td>10</td>\n",
              "      <td>1</td>\n",
              "      <td>N</td>\n",
              "    </tr>\n",
              "  </tbody>\n",
              "</table>\n",
              "<p>5 rows × 26 columns</p>\n",
              "</div>"
            ],
            "text/plain": [
              "  LAST EDITED DATE  TAXONOMIC ORDER CATEGORY          COMMON NAME  \\\n",
              "0       2023-01-11             6851     spuh        albatross sp.   \n",
              "1       2023-01-11             6851     spuh        albatross sp.   \n",
              "3       2023-12-11             7167  species  Australasian Gannet   \n",
              "4       2023-01-18             7167  species  Australasian Gannet   \n",
              "5       2023-10-17             7167  species  Australasian Gannet   \n",
              "\n",
              "   SCIENTIFIC NAME EXOTIC CODE OBSERVATION COUNT BREEDING CODE  \\\n",
              "0  Diomedeidae sp.         NaN                 1           NaN   \n",
              "1  Diomedeidae sp.         NaN                 4           NaN   \n",
              "3   Morus serrator         NaN                 1           NaN   \n",
              "4   Morus serrator         NaN                 1           NaN   \n",
              "5   Morus serrator         NaN                 2           NaN   \n",
              "\n",
              "  BREEDING CATEGORY BEHAVIOR CODE  ... LOCALITY ID LOCALITY TYPE   LATITUDE  \\\n",
              "0               NaN           NaN  ...   L22166918             P -42.458124   \n",
              "1               NaN           NaN  ...   L22168688             P -42.171416   \n",
              "3               NaN           NaN  ...    L1249759             H -42.402038   \n",
              "4               NaN           NaN  ...   L22249885             P -42.451887   \n",
              "5               NaN           NaN  ...   L12602431             H -42.513964   \n",
              "\n",
              "    LONGITUDE OBSERVATION DATE TIME OBSERVATIONS STARTED APPROVED  \\\n",
              "0  173.554744       2023-01-12                  11:41:00        1   \n",
              "1  173.932336       2023-01-12                  13:16:00        1   \n",
              "3  173.682518       2023-01-21                  11:59:00        1   \n",
              "4  173.568536       2023-01-18                  11:02:00        1   \n",
              "5  173.507146       2023-01-15                  12:05:00        1   \n",
              "\n",
              "  Last Edited Month  obs_month  Migration_type  \n",
              "0                 1          1               N  \n",
              "1                 1          1               N  \n",
              "3                12          1               N  \n",
              "4                 1          1               N  \n",
              "5                10          1               N  \n",
              "\n",
              "[5 rows x 26 columns]"
            ]
          },
          "execution_count": 44,
          "metadata": {},
          "output_type": "execute_result"
        }
      ],
      "source": [
        "cbirds_filtered.head()"
      ]
    },
    {
      "cell_type": "markdown",
      "metadata": {},
      "source": [
        "#### export the cbird_filtered as csv file "
      ]
    },
    {
      "cell_type": "code",
      "execution_count": null,
      "metadata": {
        "colab": {
          "base_uri": "https://localhost:8080/",
          "height": 868
        },
        "id": "1u7hC2codgAG",
        "outputId": "dac8cb65-ddf3-4514-f39a-a85ec2cfb912"
      },
      "outputs": [
        {
          "data": {
            "text/html": [
              "<div>\n",
              "<style scoped>\n",
              "    .dataframe tbody tr th:only-of-type {\n",
              "        vertical-align: middle;\n",
              "    }\n",
              "\n",
              "    .dataframe tbody tr th {\n",
              "        vertical-align: top;\n",
              "    }\n",
              "\n",
              "    .dataframe thead th {\n",
              "        text-align: right;\n",
              "    }\n",
              "</style>\n",
              "<table border=\"1\" class=\"dataframe\">\n",
              "  <thead>\n",
              "    <tr style=\"text-align: right;\">\n",
              "      <th></th>\n",
              "      <th>0</th>\n",
              "    </tr>\n",
              "  </thead>\n",
              "  <tbody>\n",
              "    <tr>\n",
              "      <th>LAST EDITED DATE</th>\n",
              "      <td>object</td>\n",
              "    </tr>\n",
              "    <tr>\n",
              "      <th>TAXONOMIC ORDER</th>\n",
              "      <td>float64</td>\n",
              "    </tr>\n",
              "    <tr>\n",
              "      <th>CATEGORY</th>\n",
              "      <td>object</td>\n",
              "    </tr>\n",
              "    <tr>\n",
              "      <th>COMMON NAME</th>\n",
              "      <td>object</td>\n",
              "    </tr>\n",
              "    <tr>\n",
              "      <th>SCIENTIFIC NAME</th>\n",
              "      <td>object</td>\n",
              "    </tr>\n",
              "    <tr>\n",
              "      <th>EXOTIC CODE</th>\n",
              "      <td>object</td>\n",
              "    </tr>\n",
              "    <tr>\n",
              "      <th>OBSERVATION COUNT</th>\n",
              "      <td>object</td>\n",
              "    </tr>\n",
              "    <tr>\n",
              "      <th>BREEDING CODE</th>\n",
              "      <td>object</td>\n",
              "    </tr>\n",
              "    <tr>\n",
              "      <th>BREEDING CATEGORY</th>\n",
              "      <td>object</td>\n",
              "    </tr>\n",
              "    <tr>\n",
              "      <th>BEHAVIOR CODE</th>\n",
              "      <td>object</td>\n",
              "    </tr>\n",
              "    <tr>\n",
              "      <th>STATE CODE</th>\n",
              "      <td>object</td>\n",
              "    </tr>\n",
              "    <tr>\n",
              "      <th>COUNTY</th>\n",
              "      <td>object</td>\n",
              "    </tr>\n",
              "    <tr>\n",
              "      <th>COUNTY CODE</th>\n",
              "      <td>object</td>\n",
              "    </tr>\n",
              "    <tr>\n",
              "      <th>IBA CODE</th>\n",
              "      <td>object</td>\n",
              "    </tr>\n",
              "    <tr>\n",
              "      <th>ATLAS BLOCK</th>\n",
              "      <td>object</td>\n",
              "    </tr>\n",
              "    <tr>\n",
              "      <th>LOCALITY</th>\n",
              "      <td>object</td>\n",
              "    </tr>\n",
              "    <tr>\n",
              "      <th>LOCALITY ID</th>\n",
              "      <td>object</td>\n",
              "    </tr>\n",
              "    <tr>\n",
              "      <th>LOCALITY TYPE</th>\n",
              "      <td>object</td>\n",
              "    </tr>\n",
              "    <tr>\n",
              "      <th>LATITUDE</th>\n",
              "      <td>float64</td>\n",
              "    </tr>\n",
              "    <tr>\n",
              "      <th>LONGITUDE</th>\n",
              "      <td>float64</td>\n",
              "    </tr>\n",
              "    <tr>\n",
              "      <th>OBSERVATION DATE</th>\n",
              "      <td>object</td>\n",
              "    </tr>\n",
              "    <tr>\n",
              "      <th>TIME OBSERVATIONS STARTED</th>\n",
              "      <td>object</td>\n",
              "    </tr>\n",
              "    <tr>\n",
              "      <th>APPROVED</th>\n",
              "      <td>float64</td>\n",
              "    </tr>\n",
              "    <tr>\n",
              "      <th>Migration_type</th>\n",
              "      <td>object</td>\n",
              "    </tr>\n",
              "    <tr>\n",
              "      <th>geometry</th>\n",
              "      <td>geometry</td>\n",
              "    </tr>\n",
              "  </tbody>\n",
              "</table>\n",
              "</div><br><label><b>dtype:</b> object</label>"
            ],
            "text/plain": [
              "LAST EDITED DATE               object\n",
              "TAXONOMIC ORDER               float64\n",
              "CATEGORY                       object\n",
              "COMMON NAME                    object\n",
              "SCIENTIFIC NAME                object\n",
              "EXOTIC CODE                    object\n",
              "OBSERVATION COUNT              object\n",
              "BREEDING CODE                  object\n",
              "BREEDING CATEGORY              object\n",
              "BEHAVIOR CODE                  object\n",
              "STATE CODE                     object\n",
              "COUNTY                         object\n",
              "COUNTY CODE                    object\n",
              "IBA CODE                       object\n",
              "ATLAS BLOCK                    object\n",
              "LOCALITY                       object\n",
              "LOCALITY ID                    object\n",
              "LOCALITY TYPE                  object\n",
              "LATITUDE                      float64\n",
              "LONGITUDE                     float64\n",
              "OBSERVATION DATE               object\n",
              "TIME OBSERVATIONS STARTED      object\n",
              "APPROVED                      float64\n",
              "Migration_type                 object\n",
              "geometry                     geometry\n",
              "dtype: object"
            ]
          },
          "execution_count": 65,
          "metadata": {},
          "output_type": "execute_result"
        }
      ],
      "source": [
        "# export the cbird_filtered\n",
        "\n",
        "# cbirds_filtered.to_csv('cbirds_filtered.csv', index=False)\n",
        "#import geopandas as gpd\n",
        "# export the cbirds_filtered to shaply file\n",
        "cbirds_filtered.dtypes\n"
      ]
    },
    {
      "cell_type": "code",
      "execution_count": null,
      "metadata": {
        "id": "k97dERrfWTj5"
      },
      "outputs": [],
      "source": [
        "# convert cbirds_filtered to geopands\n",
        "cbirds_filtered = gpd.GeoDataFrame(cbirds_filtered, geometry=gpd.points_from_xy(cbirds_filtered.LONGITUDE, cbirds_filtered.LATITUDE), crs=\"EPSG:2193\")"
      ]
    },
    {
      "cell_type": "code",
      "execution_count": null,
      "metadata": {
        "colab": {
          "base_uri": "https://localhost:8080/",
          "height": 458
        },
        "id": "uZ5DZH5r6v0B",
        "outputId": "e4eefc2c-13e6-4fd4-edf4-6c9d4457d822"
      },
      "outputs": [
        {
          "data": {
            "text/html": [
              "<div>\n",
              "<style scoped>\n",
              "    .dataframe tbody tr th:only-of-type {\n",
              "        vertical-align: middle;\n",
              "    }\n",
              "\n",
              "    .dataframe tbody tr th {\n",
              "        vertical-align: top;\n",
              "    }\n",
              "\n",
              "    .dataframe thead th {\n",
              "        text-align: right;\n",
              "    }\n",
              "</style>\n",
              "<table border=\"1\" class=\"dataframe\">\n",
              "  <thead>\n",
              "    <tr style=\"text-align: right;\">\n",
              "      <th></th>\n",
              "      <th>geometry</th>\n",
              "    </tr>\n",
              "  </thead>\n",
              "  <tbody>\n",
              "    <tr>\n",
              "      <th>0</th>\n",
              "      <td>POINT (173.555 -42.458)</td>\n",
              "    </tr>\n",
              "    <tr>\n",
              "      <th>1</th>\n",
              "      <td>POINT (173.932 -42.171)</td>\n",
              "    </tr>\n",
              "    <tr>\n",
              "      <th>3</th>\n",
              "      <td>POINT (173.683 -42.402)</td>\n",
              "    </tr>\n",
              "    <tr>\n",
              "      <th>4</th>\n",
              "      <td>POINT (173.569 -42.452)</td>\n",
              "    </tr>\n",
              "    <tr>\n",
              "      <th>5</th>\n",
              "      <td>POINT (173.507 -42.514)</td>\n",
              "    </tr>\n",
              "    <tr>\n",
              "      <th>...</th>\n",
              "      <td>...</td>\n",
              "    </tr>\n",
              "    <tr>\n",
              "      <th>75021</th>\n",
              "      <td>POINT (172.369 -43.798)</td>\n",
              "    </tr>\n",
              "    <tr>\n",
              "      <th>75022</th>\n",
              "      <td>POINT (172.487 -43.643)</td>\n",
              "    </tr>\n",
              "    <tr>\n",
              "      <th>75023</th>\n",
              "      <td>POINT (172.007 -43.518)</td>\n",
              "    </tr>\n",
              "    <tr>\n",
              "      <th>75024</th>\n",
              "      <td>POINT (172.228 -43.621)</td>\n",
              "    </tr>\n",
              "    <tr>\n",
              "      <th>75025</th>\n",
              "      <td>POINT (172.215 -43.604)</td>\n",
              "    </tr>\n",
              "  </tbody>\n",
              "</table>\n",
              "<p>74997 rows × 1 columns</p>\n",
              "</div><br><label><b>dtype:</b> geometry</label>"
            ],
            "text/plain": [
              "0        POINT (173.555 -42.458)\n",
              "1        POINT (173.932 -42.171)\n",
              "3        POINT (173.683 -42.402)\n",
              "4        POINT (173.569 -42.452)\n",
              "5        POINT (173.507 -42.514)\n",
              "                  ...           \n",
              "75021    POINT (172.369 -43.798)\n",
              "75022    POINT (172.487 -43.643)\n",
              "75023    POINT (172.007 -43.518)\n",
              "75024    POINT (172.228 -43.621)\n",
              "75025    POINT (172.215 -43.604)\n",
              "Name: geometry, Length: 74997, dtype: geometry"
            ]
          },
          "execution_count": 72,
          "metadata": {},
          "output_type": "execute_result"
        }
      ],
      "source": [
        "cbirds_filtered.geometry"
      ]
    },
    {
      "cell_type": "code",
      "execution_count": null,
      "metadata": {
        "id": "M8sX2w6TW5kZ"
      },
      "outputs": [],
      "source": [
        "cbirds_filtered.to_crs(epsg=2193, inplace=True)"
      ]
    },
    {
      "cell_type": "code",
      "execution_count": null,
      "metadata": {
        "colab": {
          "base_uri": "https://localhost:8080/",
          "height": 672
        },
        "id": "JhAXzHFFXO68",
        "outputId": "d6d0f9f0-43f3-43ac-a8e3-80ea71d65cef"
      },
      "outputs": [
        {
          "data": {
            "application/vnd.google.colaboratory.intrinsic+json": {
              "type": "dataframe",
              "variable_name": "cbirds_filtered"
            },
            "text/html": [
              "\n",
              "  <div id=\"df-6765c5b6-76a7-4a87-85d5-f13c9e841970\" class=\"colab-df-container\">\n",
              "    <div>\n",
              "<style scoped>\n",
              "    .dataframe tbody tr th:only-of-type {\n",
              "        vertical-align: middle;\n",
              "    }\n",
              "\n",
              "    .dataframe tbody tr th {\n",
              "        vertical-align: top;\n",
              "    }\n",
              "\n",
              "    .dataframe thead th {\n",
              "        text-align: right;\n",
              "    }\n",
              "</style>\n",
              "<table border=\"1\" class=\"dataframe\">\n",
              "  <thead>\n",
              "    <tr style=\"text-align: right;\">\n",
              "      <th></th>\n",
              "      <th>LAST EDITED DATE</th>\n",
              "      <th>TAXONOMIC ORDER</th>\n",
              "      <th>CATEGORY</th>\n",
              "      <th>COMMON NAME</th>\n",
              "      <th>SCIENTIFIC NAME</th>\n",
              "      <th>EXOTIC CODE</th>\n",
              "      <th>OBSERVATION COUNT</th>\n",
              "      <th>BREEDING CODE</th>\n",
              "      <th>BREEDING CATEGORY</th>\n",
              "      <th>BEHAVIOR CODE</th>\n",
              "      <th>...</th>\n",
              "      <th>LOCALITY</th>\n",
              "      <th>LOCALITY ID</th>\n",
              "      <th>LOCALITY TYPE</th>\n",
              "      <th>LATITUDE</th>\n",
              "      <th>LONGITUDE</th>\n",
              "      <th>OBSERVATION DATE</th>\n",
              "      <th>TIME OBSERVATIONS STARTED</th>\n",
              "      <th>APPROVED</th>\n",
              "      <th>Migration_type</th>\n",
              "      <th>geometry</th>\n",
              "    </tr>\n",
              "  </thead>\n",
              "  <tbody>\n",
              "    <tr>\n",
              "      <th>0</th>\n",
              "      <td>2023/01/11</td>\n",
              "      <td>6851.0</td>\n",
              "      <td>spuh</td>\n",
              "      <td>albatross sp.</td>\n",
              "      <td>Diomedeidae sp.</td>\n",
              "      <td>NaN</td>\n",
              "      <td>1</td>\n",
              "      <td>NaN</td>\n",
              "      <td>NaN</td>\n",
              "      <td>NaN</td>\n",
              "      <td>...</td>\n",
              "      <td>Hikurangi Marine Reserve, Kaikōura NZ-Canterbu...</td>\n",
              "      <td>L22166918</td>\n",
              "      <td>P</td>\n",
              "      <td>-42.458124</td>\n",
              "      <td>173.554744</td>\n",
              "      <td>2023/01/12</td>\n",
              "      <td>11:41:00</td>\n",
              "      <td>1.0</td>\n",
              "      <td>N</td>\n",
              "      <td>POINT (173.555 -42.458)</td>\n",
              "    </tr>\n",
              "    <tr>\n",
              "      <th>1</th>\n",
              "      <td>2023/01/11</td>\n",
              "      <td>6851.0</td>\n",
              "      <td>spuh</td>\n",
              "      <td>albatross sp.</td>\n",
              "      <td>Diomedeidae sp.</td>\n",
              "      <td>NaN</td>\n",
              "      <td>4</td>\n",
              "      <td>NaN</td>\n",
              "      <td>NaN</td>\n",
              "      <td>NaN</td>\n",
              "      <td>...</td>\n",
              "      <td>North of Clarence River Mouth, Kaikōura NZ-Can...</td>\n",
              "      <td>L22168688</td>\n",
              "      <td>P</td>\n",
              "      <td>-42.171416</td>\n",
              "      <td>173.932336</td>\n",
              "      <td>2023/01/12</td>\n",
              "      <td>13:16:00</td>\n",
              "      <td>1.0</td>\n",
              "      <td>N</td>\n",
              "      <td>POINT (173.932 -42.171)</td>\n",
              "    </tr>\n",
              "    <tr>\n",
              "      <th>3</th>\n",
              "      <td>2023/12/11</td>\n",
              "      <td>7167.0</td>\n",
              "      <td>species</td>\n",
              "      <td>Australasian Gannet</td>\n",
              "      <td>Morus serrator</td>\n",
              "      <td>NaN</td>\n",
              "      <td>1</td>\n",
              "      <td>NaN</td>\n",
              "      <td>NaN</td>\n",
              "      <td>NaN</td>\n",
              "      <td>...</td>\n",
              "      <td>Kaikoura--town waterfront</td>\n",
              "      <td>L1249759</td>\n",
              "      <td>H</td>\n",
              "      <td>-42.402038</td>\n",
              "      <td>173.682518</td>\n",
              "      <td>2023/01/21</td>\n",
              "      <td>11:59:00</td>\n",
              "      <td>1.0</td>\n",
              "      <td>N</td>\n",
              "      <td>POINT (173.683 -42.402)</td>\n",
              "    </tr>\n",
              "    <tr>\n",
              "      <th>4</th>\n",
              "      <td>2023/01/18</td>\n",
              "      <td>7167.0</td>\n",
              "      <td>species</td>\n",
              "      <td>Australasian Gannet</td>\n",
              "      <td>Morus serrator</td>\n",
              "      <td>NaN</td>\n",
              "      <td>1</td>\n",
              "      <td>NaN</td>\n",
              "      <td>NaN</td>\n",
              "      <td>NaN</td>\n",
              "      <td>...</td>\n",
              "      <td>1200 Alpine Pacific Touring Route, Peketā, Can...</td>\n",
              "      <td>L22249885</td>\n",
              "      <td>P</td>\n",
              "      <td>-42.451887</td>\n",
              "      <td>173.568536</td>\n",
              "      <td>2023/01/18</td>\n",
              "      <td>11:02:00</td>\n",
              "      <td>1.0</td>\n",
              "      <td>N</td>\n",
              "      <td>POINT (173.569 -42.452)</td>\n",
              "    </tr>\n",
              "    <tr>\n",
              "      <th>5</th>\n",
              "      <td>2023/10/17</td>\n",
              "      <td>7167.0</td>\n",
              "      <td>species</td>\n",
              "      <td>Australasian Gannet</td>\n",
              "      <td>Morus serrator</td>\n",
              "      <td>NaN</td>\n",
              "      <td>2</td>\n",
              "      <td>NaN</td>\n",
              "      <td>NaN</td>\n",
              "      <td>NaN</td>\n",
              "      <td>...</td>\n",
              "      <td>Kaikoura South Coast--Oaro River Mouth</td>\n",
              "      <td>L12602431</td>\n",
              "      <td>H</td>\n",
              "      <td>-42.513964</td>\n",
              "      <td>173.507146</td>\n",
              "      <td>2023/01/15</td>\n",
              "      <td>12:05:00</td>\n",
              "      <td>1.0</td>\n",
              "      <td>N</td>\n",
              "      <td>POINT (173.507 -42.514)</td>\n",
              "    </tr>\n",
              "  </tbody>\n",
              "</table>\n",
              "<p>5 rows × 25 columns</p>\n",
              "</div>\n",
              "    <div class=\"colab-df-buttons\">\n",
              "\n",
              "  <div class=\"colab-df-container\">\n",
              "    <button class=\"colab-df-convert\" onclick=\"convertToInteractive('df-6765c5b6-76a7-4a87-85d5-f13c9e841970')\"\n",
              "            title=\"Convert this dataframe to an interactive table.\"\n",
              "            style=\"display:none;\">\n",
              "\n",
              "  <svg xmlns=\"http://www.w3.org/2000/svg\" height=\"24px\" viewBox=\"0 -960 960 960\">\n",
              "    <path d=\"M120-120v-720h720v720H120Zm60-500h600v-160H180v160Zm220 220h160v-160H400v160Zm0 220h160v-160H400v160ZM180-400h160v-160H180v160Zm440 0h160v-160H620v160ZM180-180h160v-160H180v160Zm440 0h160v-160H620v160Z\"/>\n",
              "  </svg>\n",
              "    </button>\n",
              "\n",
              "  <style>\n",
              "    .colab-df-container {\n",
              "      display:flex;\n",
              "      gap: 12px;\n",
              "    }\n",
              "\n",
              "    .colab-df-convert {\n",
              "      background-color: #E8F0FE;\n",
              "      border: none;\n",
              "      border-radius: 50%;\n",
              "      cursor: pointer;\n",
              "      display: none;\n",
              "      fill: #1967D2;\n",
              "      height: 32px;\n",
              "      padding: 0 0 0 0;\n",
              "      width: 32px;\n",
              "    }\n",
              "\n",
              "    .colab-df-convert:hover {\n",
              "      background-color: #E2EBFA;\n",
              "      box-shadow: 0px 1px 2px rgba(60, 64, 67, 0.3), 0px 1px 3px 1px rgba(60, 64, 67, 0.15);\n",
              "      fill: #174EA6;\n",
              "    }\n",
              "\n",
              "    .colab-df-buttons div {\n",
              "      margin-bottom: 4px;\n",
              "    }\n",
              "\n",
              "    [theme=dark] .colab-df-convert {\n",
              "      background-color: #3B4455;\n",
              "      fill: #D2E3FC;\n",
              "    }\n",
              "\n",
              "    [theme=dark] .colab-df-convert:hover {\n",
              "      background-color: #434B5C;\n",
              "      box-shadow: 0px 1px 3px 1px rgba(0, 0, 0, 0.15);\n",
              "      filter: drop-shadow(0px 1px 2px rgba(0, 0, 0, 0.3));\n",
              "      fill: #FFFFFF;\n",
              "    }\n",
              "  </style>\n",
              "\n",
              "    <script>\n",
              "      const buttonEl =\n",
              "        document.querySelector('#df-6765c5b6-76a7-4a87-85d5-f13c9e841970 button.colab-df-convert');\n",
              "      buttonEl.style.display =\n",
              "        google.colab.kernel.accessAllowed ? 'block' : 'none';\n",
              "\n",
              "      async function convertToInteractive(key) {\n",
              "        const element = document.querySelector('#df-6765c5b6-76a7-4a87-85d5-f13c9e841970');\n",
              "        const dataTable =\n",
              "          await google.colab.kernel.invokeFunction('convertToInteractive',\n",
              "                                                    [key], {});\n",
              "        if (!dataTable) return;\n",
              "\n",
              "        const docLinkHtml = 'Like what you see? Visit the ' +\n",
              "          '<a target=\"_blank\" href=https://colab.research.google.com/notebooks/data_table.ipynb>data table notebook</a>'\n",
              "          + ' to learn more about interactive tables.';\n",
              "        element.innerHTML = '';\n",
              "        dataTable['output_type'] = 'display_data';\n",
              "        await google.colab.output.renderOutput(dataTable, element);\n",
              "        const docLink = document.createElement('div');\n",
              "        docLink.innerHTML = docLinkHtml;\n",
              "        element.appendChild(docLink);\n",
              "      }\n",
              "    </script>\n",
              "  </div>\n",
              "\n",
              "\n",
              "<div id=\"df-4f9e9cb9-0498-47be-835f-b8f76e7228ea\">\n",
              "  <button class=\"colab-df-quickchart\" onclick=\"quickchart('df-4f9e9cb9-0498-47be-835f-b8f76e7228ea')\"\n",
              "            title=\"Suggest charts\"\n",
              "            style=\"display:none;\">\n",
              "\n",
              "<svg xmlns=\"http://www.w3.org/2000/svg\" height=\"24px\"viewBox=\"0 0 24 24\"\n",
              "     width=\"24px\">\n",
              "    <g>\n",
              "        <path d=\"M19 3H5c-1.1 0-2 .9-2 2v14c0 1.1.9 2 2 2h14c1.1 0 2-.9 2-2V5c0-1.1-.9-2-2-2zM9 17H7v-7h2v7zm4 0h-2V7h2v10zm4 0h-2v-4h2v4z\"/>\n",
              "    </g>\n",
              "</svg>\n",
              "  </button>\n",
              "\n",
              "<style>\n",
              "  .colab-df-quickchart {\n",
              "      --bg-color: #E8F0FE;\n",
              "      --fill-color: #1967D2;\n",
              "      --hover-bg-color: #E2EBFA;\n",
              "      --hover-fill-color: #174EA6;\n",
              "      --disabled-fill-color: #AAA;\n",
              "      --disabled-bg-color: #DDD;\n",
              "  }\n",
              "\n",
              "  [theme=dark] .colab-df-quickchart {\n",
              "      --bg-color: #3B4455;\n",
              "      --fill-color: #D2E3FC;\n",
              "      --hover-bg-color: #434B5C;\n",
              "      --hover-fill-color: #FFFFFF;\n",
              "      --disabled-bg-color: #3B4455;\n",
              "      --disabled-fill-color: #666;\n",
              "  }\n",
              "\n",
              "  .colab-df-quickchart {\n",
              "    background-color: var(--bg-color);\n",
              "    border: none;\n",
              "    border-radius: 50%;\n",
              "    cursor: pointer;\n",
              "    display: none;\n",
              "    fill: var(--fill-color);\n",
              "    height: 32px;\n",
              "    padding: 0;\n",
              "    width: 32px;\n",
              "  }\n",
              "\n",
              "  .colab-df-quickchart:hover {\n",
              "    background-color: var(--hover-bg-color);\n",
              "    box-shadow: 0 1px 2px rgba(60, 64, 67, 0.3), 0 1px 3px 1px rgba(60, 64, 67, 0.15);\n",
              "    fill: var(--button-hover-fill-color);\n",
              "  }\n",
              "\n",
              "  .colab-df-quickchart-complete:disabled,\n",
              "  .colab-df-quickchart-complete:disabled:hover {\n",
              "    background-color: var(--disabled-bg-color);\n",
              "    fill: var(--disabled-fill-color);\n",
              "    box-shadow: none;\n",
              "  }\n",
              "\n",
              "  .colab-df-spinner {\n",
              "    border: 2px solid var(--fill-color);\n",
              "    border-color: transparent;\n",
              "    border-bottom-color: var(--fill-color);\n",
              "    animation:\n",
              "      spin 1s steps(1) infinite;\n",
              "  }\n",
              "\n",
              "  @keyframes spin {\n",
              "    0% {\n",
              "      border-color: transparent;\n",
              "      border-bottom-color: var(--fill-color);\n",
              "      border-left-color: var(--fill-color);\n",
              "    }\n",
              "    20% {\n",
              "      border-color: transparent;\n",
              "      border-left-color: var(--fill-color);\n",
              "      border-top-color: var(--fill-color);\n",
              "    }\n",
              "    30% {\n",
              "      border-color: transparent;\n",
              "      border-left-color: var(--fill-color);\n",
              "      border-top-color: var(--fill-color);\n",
              "      border-right-color: var(--fill-color);\n",
              "    }\n",
              "    40% {\n",
              "      border-color: transparent;\n",
              "      border-right-color: var(--fill-color);\n",
              "      border-top-color: var(--fill-color);\n",
              "    }\n",
              "    60% {\n",
              "      border-color: transparent;\n",
              "      border-right-color: var(--fill-color);\n",
              "    }\n",
              "    80% {\n",
              "      border-color: transparent;\n",
              "      border-right-color: var(--fill-color);\n",
              "      border-bottom-color: var(--fill-color);\n",
              "    }\n",
              "    90% {\n",
              "      border-color: transparent;\n",
              "      border-bottom-color: var(--fill-color);\n",
              "    }\n",
              "  }\n",
              "</style>\n",
              "\n",
              "  <script>\n",
              "    async function quickchart(key) {\n",
              "      const quickchartButtonEl =\n",
              "        document.querySelector('#' + key + ' button');\n",
              "      quickchartButtonEl.disabled = true;  // To prevent multiple clicks.\n",
              "      quickchartButtonEl.classList.add('colab-df-spinner');\n",
              "      try {\n",
              "        const charts = await google.colab.kernel.invokeFunction(\n",
              "            'suggestCharts', [key], {});\n",
              "      } catch (error) {\n",
              "        console.error('Error during call to suggestCharts:', error);\n",
              "      }\n",
              "      quickchartButtonEl.classList.remove('colab-df-spinner');\n",
              "      quickchartButtonEl.classList.add('colab-df-quickchart-complete');\n",
              "    }\n",
              "    (() => {\n",
              "      let quickchartButtonEl =\n",
              "        document.querySelector('#df-4f9e9cb9-0498-47be-835f-b8f76e7228ea button');\n",
              "      quickchartButtonEl.style.display =\n",
              "        google.colab.kernel.accessAllowed ? 'block' : 'none';\n",
              "    })();\n",
              "  </script>\n",
              "</div>\n",
              "\n",
              "    </div>\n",
              "  </div>\n"
            ],
            "text/plain": [
              "  LAST EDITED DATE  TAXONOMIC ORDER CATEGORY          COMMON NAME  \\\n",
              "0       2023/01/11           6851.0     spuh        albatross sp.   \n",
              "1       2023/01/11           6851.0     spuh        albatross sp.   \n",
              "3       2023/12/11           7167.0  species  Australasian Gannet   \n",
              "4       2023/01/18           7167.0  species  Australasian Gannet   \n",
              "5       2023/10/17           7167.0  species  Australasian Gannet   \n",
              "\n",
              "   SCIENTIFIC NAME EXOTIC CODE OBSERVATION COUNT BREEDING CODE  \\\n",
              "0  Diomedeidae sp.         NaN                 1           NaN   \n",
              "1  Diomedeidae sp.         NaN                 4           NaN   \n",
              "3   Morus serrator         NaN                 1           NaN   \n",
              "4   Morus serrator         NaN                 1           NaN   \n",
              "5   Morus serrator         NaN                 2           NaN   \n",
              "\n",
              "  BREEDING CATEGORY BEHAVIOR CODE  ...  \\\n",
              "0               NaN           NaN  ...   \n",
              "1               NaN           NaN  ...   \n",
              "3               NaN           NaN  ...   \n",
              "4               NaN           NaN  ...   \n",
              "5               NaN           NaN  ...   \n",
              "\n",
              "                                            LOCALITY LOCALITY ID  \\\n",
              "0  Hikurangi Marine Reserve, Kaikōura NZ-Canterbu...   L22166918   \n",
              "1  North of Clarence River Mouth, Kaikōura NZ-Can...   L22168688   \n",
              "3                          Kaikoura--town waterfront    L1249759   \n",
              "4  1200 Alpine Pacific Touring Route, Peketā, Can...   L22249885   \n",
              "5             Kaikoura South Coast--Oaro River Mouth   L12602431   \n",
              "\n",
              "  LOCALITY TYPE   LATITUDE   LONGITUDE OBSERVATION DATE  \\\n",
              "0             P -42.458124  173.554744       2023/01/12   \n",
              "1             P -42.171416  173.932336       2023/01/12   \n",
              "3             H -42.402038  173.682518       2023/01/21   \n",
              "4             P -42.451887  173.568536       2023/01/18   \n",
              "5             H -42.513964  173.507146       2023/01/15   \n",
              "\n",
              "  TIME OBSERVATIONS STARTED APPROVED  Migration_type                 geometry  \n",
              "0                  11:41:00      1.0               N  POINT (173.555 -42.458)  \n",
              "1                  13:16:00      1.0               N  POINT (173.932 -42.171)  \n",
              "3                  11:59:00      1.0               N  POINT (173.683 -42.402)  \n",
              "4                  11:02:00      1.0               N  POINT (173.569 -42.452)  \n",
              "5                  12:05:00      1.0               N  POINT (173.507 -42.514)  \n",
              "\n",
              "[5 rows x 25 columns]"
            ]
          },
          "execution_count": 63,
          "metadata": {},
          "output_type": "execute_result"
        }
      ],
      "source": [
        "cbirds_filtered.head()"
      ]
    },
    {
      "cell_type": "code",
      "execution_count": null,
      "metadata": {
        "id": "qk2yuCEqZaBL"
      },
      "outputs": [],
      "source": []
    }
  ],
  "metadata": {
    "colab": {
      "provenance": []
    },
    "kernelspec": {
      "display_name": "new_env_yml",
      "language": "python",
      "name": "python3"
    },
    "language_info": {
      "codemirror_mode": {
        "name": "ipython",
        "version": 3
      },
      "file_extension": ".py",
      "mimetype": "text/x-python",
      "name": "python",
      "nbconvert_exporter": "python",
      "pygments_lexer": "ipython3",
      "version": "3.9.18"
    }
  },
  "nbformat": 4,
  "nbformat_minor": 0
}
