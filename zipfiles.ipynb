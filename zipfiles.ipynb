{
 "cells": [
  {
   "cell_type": "code",
   "execution_count": 2,
   "metadata": {},
   "outputs": [
    {
     "name": "stdout",
     "output_type": "stream",
     "text": [
      "Files have been zipped into canterbury_region-SHP.zip\n"
     ]
    }
   ],
   "source": [
    "import zipfile\n",
    "import os\n",
    "\n",
    "directory = '/Users/michaeltang/Downloads/GISC412_project_repo/Canterbury_birds/GIS_file'\n",
    "\n",
    "os.chdir(directory)\n",
    "# List of files to be zipped\n",
    "files_to_zip = [\n",
    "    'canterbury_region.cpg', \n",
    "    'canterbury_region.prj', \n",
    "    'canterbury_region.shx',\n",
    "    'canterbury_region.dbf', \n",
    "    'canterbury_region.shp'\n",
    "]\n",
    "\n",
    "# Name of the output zip file\n",
    "zip_filename = 'canterbury_region-SHP.zip'\n",
    "\n",
    "# Create a new zip file\n",
    "with zipfile.ZipFile(zip_filename, 'w') as zipf:\n",
    "    for file in files_to_zip:\n",
    "        zipf.write(file, os.path.basename(file))\n",
    "\n",
    "print(f'Files have been zipped into {zip_filename}')"
   ]
  },
  {
   "cell_type": "code",
   "execution_count": 4,
   "metadata": {},
   "outputs": [
    {
     "data": {
      "text/plain": [
       "'/Users/michaeltang/Downloads/GISC412_project_repo/Canterbury_birds'"
      ]
     },
     "execution_count": 4,
     "metadata": {},
     "output_type": "execute_result"
    }
   ],
   "source": [
    "os.getcwd()"
   ]
  },
  {
   "cell_type": "code",
   "execution_count": null,
   "metadata": {},
   "outputs": [],
   "source": []
  }
 ],
 "metadata": {
  "kernelspec": {
   "display_name": "new_env_yml",
   "language": "python",
   "name": "python3"
  },
  "language_info": {
   "codemirror_mode": {
    "name": "ipython",
    "version": 3
   },
   "file_extension": ".py",
   "mimetype": "text/x-python",
   "name": "python",
   "nbconvert_exporter": "python",
   "pygments_lexer": "ipython3",
   "version": "3.9.18"
  }
 },
 "nbformat": 4,
 "nbformat_minor": 2
}
